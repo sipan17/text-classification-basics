{
 "cells": [
  {
   "cell_type": "markdown",
   "metadata": {},
   "source": [
    "# text classification with Naive Bayes, Logistic Regression and Fasttext"
   ]
  },
  {
   "cell_type": "code",
   "execution_count": 1,
   "metadata": {},
   "outputs": [],
   "source": [
    "import pandas as pd\n",
    "import numpy as np\n",
    "import matplotlib.pyplot as plt\n",
    "import warnings \n",
    "np.random.seed(17)\n",
    "warnings.filterwarnings(\"ignore\")"
   ]
  },
  {
   "cell_type": "code",
   "execution_count": 2,
   "metadata": {},
   "outputs": [
    {
     "data": {
      "text/html": [
       "<div>\n",
       "<style scoped>\n",
       "    .dataframe tbody tr th:only-of-type {\n",
       "        vertical-align: middle;\n",
       "    }\n",
       "\n",
       "    .dataframe tbody tr th {\n",
       "        vertical-align: top;\n",
       "    }\n",
       "\n",
       "    .dataframe thead th {\n",
       "        text-align: right;\n",
       "    }\n",
       "</style>\n",
       "<table border=\"1\" class=\"dataframe\">\n",
       "  <thead>\n",
       "    <tr style=\"text-align: right;\">\n",
       "      <th></th>\n",
       "      <th>CLASS</th>\n",
       "      <th>TITLE</th>\n",
       "      <th>DESCRIPTION</th>\n",
       "    </tr>\n",
       "  </thead>\n",
       "  <tbody>\n",
       "    <tr>\n",
       "      <th>0</th>\n",
       "      <td>3</td>\n",
       "      <td>Wall St. Bears Claw Back Into the Black (Reuters)</td>\n",
       "      <td>Reuters - Short-sellers, Wall Street's dwindli...</td>\n",
       "    </tr>\n",
       "    <tr>\n",
       "      <th>1</th>\n",
       "      <td>3</td>\n",
       "      <td>Carlyle Looks Toward Commercial Aerospace (Reu...</td>\n",
       "      <td>Reuters - Private investment firm Carlyle Grou...</td>\n",
       "    </tr>\n",
       "    <tr>\n",
       "      <th>2</th>\n",
       "      <td>3</td>\n",
       "      <td>Oil and Economy Cloud Stocks' Outlook (Reuters)</td>\n",
       "      <td>Reuters - Soaring crude prices plus worries\\ab...</td>\n",
       "    </tr>\n",
       "    <tr>\n",
       "      <th>3</th>\n",
       "      <td>3</td>\n",
       "      <td>Iraq Halts Oil Exports from Main Southern Pipe...</td>\n",
       "      <td>Reuters - Authorities have halted oil export\\f...</td>\n",
       "    </tr>\n",
       "    <tr>\n",
       "      <th>4</th>\n",
       "      <td>3</td>\n",
       "      <td>Oil prices soar to all-time record, posing new...</td>\n",
       "      <td>AFP - Tearaway world oil prices, toppling reco...</td>\n",
       "    </tr>\n",
       "  </tbody>\n",
       "</table>\n",
       "</div>"
      ],
      "text/plain": [
       "   CLASS                                              TITLE  \\\n",
       "0      3  Wall St. Bears Claw Back Into the Black (Reuters)   \n",
       "1      3  Carlyle Looks Toward Commercial Aerospace (Reu...   \n",
       "2      3    Oil and Economy Cloud Stocks' Outlook (Reuters)   \n",
       "3      3  Iraq Halts Oil Exports from Main Southern Pipe...   \n",
       "4      3  Oil prices soar to all-time record, posing new...   \n",
       "\n",
       "                                         DESCRIPTION  \n",
       "0  Reuters - Short-sellers, Wall Street's dwindli...  \n",
       "1  Reuters - Private investment firm Carlyle Grou...  \n",
       "2  Reuters - Soaring crude prices plus worries\\ab...  \n",
       "3  Reuters - Authorities have halted oil export\\f...  \n",
       "4  AFP - Tearaway world oil prices, toppling reco...  "
      ]
     },
     "execution_count": 2,
     "metadata": {},
     "output_type": "execute_result"
    }
   ],
   "source": [
    "#data source - https://github.com/mhjabreel/CharCnn_Keras/tree/master/data/ag_news_csv\n",
    "classes = np.loadtxt('./data/classes.txt', dtype=str)\n",
    "class_dict = {i+1:x for i, x in enumerate(classes)}\n",
    "columns = [\"CLASS\", \"TITLE\", \"DESCRIPTION\"]\n",
    "ag_new_train = pd.read_csv('./data/train.csv', header=None)\n",
    "ag_new_train.columns = columns\n",
    "ag_new_train.head()"
   ]
  },
  {
   "cell_type": "code",
   "execution_count": 3,
   "metadata": {},
   "outputs": [],
   "source": [
    "df = pd.DataFrame(data=ag_new_train[\"TITLE\"] + \" \" + ag_new_train[\"DESCRIPTION\"], columns=[\"POST\"])\n",
    "df[\"LABEL\"] = ag_new_train[\"CLASS\"].map(class_dict)"
   ]
  },
  {
   "cell_type": "code",
   "execution_count": 4,
   "metadata": {},
   "outputs": [
    {
     "data": {
      "text/html": [
       "<div>\n",
       "<style scoped>\n",
       "    .dataframe tbody tr th:only-of-type {\n",
       "        vertical-align: middle;\n",
       "    }\n",
       "\n",
       "    .dataframe tbody tr th {\n",
       "        vertical-align: top;\n",
       "    }\n",
       "\n",
       "    .dataframe thead th {\n",
       "        text-align: right;\n",
       "    }\n",
       "</style>\n",
       "<table border=\"1\" class=\"dataframe\">\n",
       "  <thead>\n",
       "    <tr style=\"text-align: right;\">\n",
       "      <th></th>\n",
       "      <th>POST</th>\n",
       "      <th>LABEL</th>\n",
       "    </tr>\n",
       "  </thead>\n",
       "  <tbody>\n",
       "    <tr>\n",
       "      <th>0</th>\n",
       "      <td>Wall St. Bears Claw Back Into the Black (Reute...</td>\n",
       "      <td>Business</td>\n",
       "    </tr>\n",
       "    <tr>\n",
       "      <th>1</th>\n",
       "      <td>Carlyle Looks Toward Commercial Aerospace (Reu...</td>\n",
       "      <td>Business</td>\n",
       "    </tr>\n",
       "    <tr>\n",
       "      <th>2</th>\n",
       "      <td>Oil and Economy Cloud Stocks' Outlook (Reuters...</td>\n",
       "      <td>Business</td>\n",
       "    </tr>\n",
       "    <tr>\n",
       "      <th>3</th>\n",
       "      <td>Iraq Halts Oil Exports from Main Southern Pipe...</td>\n",
       "      <td>Business</td>\n",
       "    </tr>\n",
       "    <tr>\n",
       "      <th>4</th>\n",
       "      <td>Oil prices soar to all-time record, posing new...</td>\n",
       "      <td>Business</td>\n",
       "    </tr>\n",
       "  </tbody>\n",
       "</table>\n",
       "</div>"
      ],
      "text/plain": [
       "                                                POST     LABEL\n",
       "0  Wall St. Bears Claw Back Into the Black (Reute...  Business\n",
       "1  Carlyle Looks Toward Commercial Aerospace (Reu...  Business\n",
       "2  Oil and Economy Cloud Stocks' Outlook (Reuters...  Business\n",
       "3  Iraq Halts Oil Exports from Main Southern Pipe...  Business\n",
       "4  Oil prices soar to all-time record, posing new...  Business"
      ]
     },
     "execution_count": 4,
     "metadata": {},
     "output_type": "execute_result"
    }
   ],
   "source": [
    "df.head()"
   ]
  },
  {
   "cell_type": "code",
   "execution_count": 5,
   "metadata": {},
   "outputs": [
    {
     "data": {
      "text/plain": [
       "120000"
      ]
     },
     "execution_count": 5,
     "metadata": {},
     "output_type": "execute_result"
    }
   ],
   "source": [
    "len(df)"
   ]
  },
  {
   "cell_type": "code",
   "execution_count": 6,
   "metadata": {},
   "outputs": [
    {
     "name": "stdout",
     "output_type": "stream",
     "text": [
      "In a Down Market, Head Toward Value Funds There is little cause for celebration in the stock market these days, but investors in value-focused mutual funds have reason to feel a bit smug -- if only because they've lost less than the folks who stuck with growth.\n",
      "Label: Business\n"
     ]
    }
   ],
   "source": [
    "def print_plot(index):\n",
    "    example = df[df.index == index][['POST', 'LABEL']].values[0]\n",
    "    if len(example) > 0:\n",
    "        print(example[0])\n",
    "        print('Label:', example[1])\n",
    "print_plot(17)"
   ]
  },
  {
   "cell_type": "code",
   "execution_count": 7,
   "metadata": {},
   "outputs": [
    {
     "data": {
      "image/png": "[encoded data removed]",
      "text/plain": [
       "<Figure size 720x288 with 1 Axes>"
      ]
     },
     "metadata": {
      "needs_background": "light"
     },
     "output_type": "display_data"
    }
   ],
   "source": [
    "plt.figure(figsize=(10,4))\n",
    "df[\"LABEL\"].value_counts().plot(kind='bar');"
   ]
  },
  {
   "cell_type": "code",
   "execution_count": 8,
   "metadata": {},
   "outputs": [
    {
     "data": {
      "text/html": [
       "<div>\n",
       "<style scoped>\n",
       "    .dataframe tbody tr th:only-of-type {\n",
       "        vertical-align: middle;\n",
       "    }\n",
       "\n",
       "    .dataframe tbody tr th {\n",
       "        vertical-align: top;\n",
       "    }\n",
       "\n",
       "    .dataframe thead th {\n",
       "        text-align: right;\n",
       "    }\n",
       "</style>\n",
       "<table border=\"1\" class=\"dataframe\">\n",
       "  <thead>\n",
       "    <tr style=\"text-align: right;\">\n",
       "      <th></th>\n",
       "      <th>CLASS</th>\n",
       "      <th>TITLE</th>\n",
       "      <th>DESCRIPTION</th>\n",
       "    </tr>\n",
       "  </thead>\n",
       "  <tbody>\n",
       "    <tr>\n",
       "      <th>0</th>\n",
       "      <td>3</td>\n",
       "      <td>Fears for T N pension after talks</td>\n",
       "      <td>Unions representing workers at Turner   Newall...</td>\n",
       "    </tr>\n",
       "    <tr>\n",
       "      <th>1</th>\n",
       "      <td>4</td>\n",
       "      <td>The Race is On: Second Private Team Sets Launc...</td>\n",
       "      <td>SPACE.com - TORONTO, Canada -- A second\\team o...</td>\n",
       "    </tr>\n",
       "    <tr>\n",
       "      <th>2</th>\n",
       "      <td>4</td>\n",
       "      <td>Ky. Company Wins Grant to Study Peptides (AP)</td>\n",
       "      <td>AP - A company founded by a chemistry research...</td>\n",
       "    </tr>\n",
       "    <tr>\n",
       "      <th>3</th>\n",
       "      <td>4</td>\n",
       "      <td>Prediction Unit Helps Forecast Wildfires (AP)</td>\n",
       "      <td>AP - It's barely dawn when Mike Fitzpatrick st...</td>\n",
       "    </tr>\n",
       "    <tr>\n",
       "      <th>4</th>\n",
       "      <td>4</td>\n",
       "      <td>Calif. Aims to Limit Farm-Related Smog (AP)</td>\n",
       "      <td>AP - Southern California's smog-fighting agenc...</td>\n",
       "    </tr>\n",
       "  </tbody>\n",
       "</table>\n",
       "</div>"
      ],
      "text/plain": [
       "   CLASS                                              TITLE  \\\n",
       "0      3                  Fears for T N pension after talks   \n",
       "1      4  The Race is On: Second Private Team Sets Launc...   \n",
       "2      4      Ky. Company Wins Grant to Study Peptides (AP)   \n",
       "3      4      Prediction Unit Helps Forecast Wildfires (AP)   \n",
       "4      4        Calif. Aims to Limit Farm-Related Smog (AP)   \n",
       "\n",
       "                                         DESCRIPTION  \n",
       "0  Unions representing workers at Turner   Newall...  \n",
       "1  SPACE.com - TORONTO, Canada -- A second\\team o...  \n",
       "2  AP - A company founded by a chemistry research...  \n",
       "3  AP - It's barely dawn when Mike Fitzpatrick st...  \n",
       "4  AP - Southern California's smog-fighting agenc...  "
      ]
     },
     "execution_count": 8,
     "metadata": {},
     "output_type": "execute_result"
    }
   ],
   "source": [
    "ag_new_test = pd.read_csv('./data/test.csv', header=None)\n",
    "ag_new_test.columns = columns\n",
    "ag_new_test.head()"
   ]
  },
  {
   "cell_type": "code",
   "execution_count": 9,
   "metadata": {},
   "outputs": [],
   "source": [
    "test_df = pd.DataFrame(data=ag_new_test[\"TITLE\"] + \" \" + ag_new_test[\"DESCRIPTION\"], columns=[\"POST\"])\n",
    "test_df[\"LABEL\"] = ag_new_test[\"CLASS\"].map(class_dict)"
   ]
  },
  {
   "cell_type": "code",
   "execution_count": 10,
   "metadata": {},
   "outputs": [
    {
     "data": {
      "text/html": [
       "<div>\n",
       "<style scoped>\n",
       "    .dataframe tbody tr th:only-of-type {\n",
       "        vertical-align: middle;\n",
       "    }\n",
       "\n",
       "    .dataframe tbody tr th {\n",
       "        vertical-align: top;\n",
       "    }\n",
       "\n",
       "    .dataframe thead th {\n",
       "        text-align: right;\n",
       "    }\n",
       "</style>\n",
       "<table border=\"1\" class=\"dataframe\">\n",
       "  <thead>\n",
       "    <tr style=\"text-align: right;\">\n",
       "      <th></th>\n",
       "      <th>POST</th>\n",
       "      <th>LABEL</th>\n",
       "    </tr>\n",
       "  </thead>\n",
       "  <tbody>\n",
       "    <tr>\n",
       "      <th>0</th>\n",
       "      <td>Fears for T N pension after talks Unions repre...</td>\n",
       "      <td>Business</td>\n",
       "    </tr>\n",
       "    <tr>\n",
       "      <th>1</th>\n",
       "      <td>The Race is On: Second Private Team Sets Launc...</td>\n",
       "      <td>Sci/Tech</td>\n",
       "    </tr>\n",
       "    <tr>\n",
       "      <th>2</th>\n",
       "      <td>Ky. Company Wins Grant to Study Peptides (AP) ...</td>\n",
       "      <td>Sci/Tech</td>\n",
       "    </tr>\n",
       "    <tr>\n",
       "      <th>3</th>\n",
       "      <td>Prediction Unit Helps Forecast Wildfires (AP) ...</td>\n",
       "      <td>Sci/Tech</td>\n",
       "    </tr>\n",
       "    <tr>\n",
       "      <th>4</th>\n",
       "      <td>Calif. Aims to Limit Farm-Related Smog (AP) AP...</td>\n",
       "      <td>Sci/Tech</td>\n",
       "    </tr>\n",
       "  </tbody>\n",
       "</table>\n",
       "</div>"
      ],
      "text/plain": [
       "                                                POST     LABEL\n",
       "0  Fears for T N pension after talks Unions repre...  Business\n",
       "1  The Race is On: Second Private Team Sets Launc...  Sci/Tech\n",
       "2  Ky. Company Wins Grant to Study Peptides (AP) ...  Sci/Tech\n",
       "3  Prediction Unit Helps Forecast Wildfires (AP) ...  Sci/Tech\n",
       "4  Calif. Aims to Limit Farm-Related Smog (AP) AP...  Sci/Tech"
      ]
     },
     "execution_count": 10,
     "metadata": {},
     "output_type": "execute_result"
    }
   ],
   "source": [
    "test_df.head()"
   ]
  },
  {
   "cell_type": "code",
   "execution_count": 11,
   "metadata": {},
   "outputs": [
    {
     "data": {
      "text/plain": [
       "7600"
      ]
     },
     "execution_count": 11,
     "metadata": {},
     "output_type": "execute_result"
    }
   ],
   "source": [
    "len(test_df)"
   ]
  },
  {
   "cell_type": "code",
   "execution_count": 12,
   "metadata": {},
   "outputs": [
    {
     "data": {
      "image/png": "[encoded data removed]",
      "text/plain": [
       "<Figure size 720x288 with 1 Axes>"
      ]
     },
     "metadata": {
      "needs_background": "light"
     },
     "output_type": "display_data"
    }
   ],
   "source": [
    "plt.figure(figsize=(10,4))\n",
    "test_df[\"LABEL\"].value_counts().plot(kind='bar');"
   ]
  },
  {
   "cell_type": "code",
   "execution_count": 13,
   "metadata": {},
   "outputs": [
    {
     "data": {
      "text/plain": [
       "0"
      ]
     },
     "execution_count": 13,
     "metadata": {},
     "output_type": "execute_result"
    }
   ],
   "source": [
    "pd.isnull(df['POST']).sum()"
   ]
  },
  {
   "cell_type": "code",
   "execution_count": 14,
   "metadata": {},
   "outputs": [],
   "source": [
    "df[\"POST_LENGTH\"] = df[\"POST\"].map(len)\n",
    "df[\"POST_NUM_WORDS\"] = df[\"POST\"].map(lambda x: len(x.split()))"
   ]
  },
  {
   "cell_type": "code",
   "execution_count": 15,
   "metadata": {},
   "outputs": [
    {
     "data": {
      "text/html": [
       "<div>\n",
       "<style scoped>\n",
       "    .dataframe tbody tr th:only-of-type {\n",
       "        vertical-align: middle;\n",
       "    }\n",
       "\n",
       "    .dataframe tbody tr th {\n",
       "        vertical-align: top;\n",
       "    }\n",
       "\n",
       "    .dataframe thead th {\n",
       "        text-align: right;\n",
       "    }\n",
       "</style>\n",
       "<table border=\"1\" class=\"dataframe\">\n",
       "  <thead>\n",
       "    <tr style=\"text-align: right;\">\n",
       "      <th></th>\n",
       "      <th>POST</th>\n",
       "      <th>LABEL</th>\n",
       "      <th>POST_LENGTH</th>\n",
       "      <th>POST_NUM_WORDS</th>\n",
       "    </tr>\n",
       "  </thead>\n",
       "  <tbody>\n",
       "    <tr>\n",
       "      <th>0</th>\n",
       "      <td>Wall St. Bears Claw Back Into the Black (Reute...</td>\n",
       "      <td>Business</td>\n",
       "      <td>144</td>\n",
       "      <td>21</td>\n",
       "    </tr>\n",
       "    <tr>\n",
       "      <th>1</th>\n",
       "      <td>Carlyle Looks Toward Commercial Aerospace (Reu...</td>\n",
       "      <td>Business</td>\n",
       "      <td>266</td>\n",
       "      <td>36</td>\n",
       "    </tr>\n",
       "    <tr>\n",
       "      <th>2</th>\n",
       "      <td>Oil and Economy Cloud Stocks' Outlook (Reuters...</td>\n",
       "      <td>Business</td>\n",
       "      <td>232</td>\n",
       "      <td>36</td>\n",
       "    </tr>\n",
       "    <tr>\n",
       "      <th>3</th>\n",
       "      <td>Iraq Halts Oil Exports from Main Southern Pipe...</td>\n",
       "      <td>Business</td>\n",
       "      <td>256</td>\n",
       "      <td>36</td>\n",
       "    </tr>\n",
       "    <tr>\n",
       "      <th>4</th>\n",
       "      <td>Oil prices soar to all-time record, posing new...</td>\n",
       "      <td>Business</td>\n",
       "      <td>234</td>\n",
       "      <td>37</td>\n",
       "    </tr>\n",
       "  </tbody>\n",
       "</table>\n",
       "</div>"
      ],
      "text/plain": [
       "                                                POST     LABEL  POST_LENGTH  \\\n",
       "0  Wall St. Bears Claw Back Into the Black (Reute...  Business          144   \n",
       "1  Carlyle Looks Toward Commercial Aerospace (Reu...  Business          266   \n",
       "2  Oil and Economy Cloud Stocks' Outlook (Reuters...  Business          232   \n",
       "3  Iraq Halts Oil Exports from Main Southern Pipe...  Business          256   \n",
       "4  Oil prices soar to all-time record, posing new...  Business          234   \n",
       "\n",
       "   POST_NUM_WORDS  \n",
       "0              21  \n",
       "1              36  \n",
       "2              36  \n",
       "3              36  \n",
       "4              37  "
      ]
     },
     "execution_count": 15,
     "metadata": {},
     "output_type": "execute_result"
    }
   ],
   "source": [
    "df.head()"
   ]
  },
  {
   "cell_type": "code",
   "execution_count": 16,
   "metadata": {},
   "outputs": [
    {
     "data": {
      "image/png": "[encoded data removed]",
      "text/plain": [
       "<Figure size 936x360 with 1 Axes>"
      ]
     },
     "metadata": {
      "needs_background": "light"
     },
     "output_type": "display_data"
    }
   ],
   "source": [
    "plt.figure(figsize=(13, 5))\n",
    "for c in df.LABEL.unique():\n",
    "    plt.hist(df[df.LABEL == c][\"POST_LENGTH\"], label=c, bins=100, alpha=0.5)\n",
    "plt.legend()\n",
    "plt.show()\n",
    "plt.close()"
   ]
  },
  {
   "cell_type": "code",
   "execution_count": 17,
   "metadata": {},
   "outputs": [
    {
     "data": {
      "image/png": "[encoded data removed]",
      "text/plain": [
       "<Figure size 936x360 with 1 Axes>"
      ]
     },
     "metadata": {
      "needs_background": "light"
     },
     "output_type": "display_data"
    }
   ],
   "source": [
    "plt.figure(figsize=(13, 5))\n",
    "for c in df.LABEL.unique():\n",
    "    plt.hist(df[df.LABEL == c][\"POST_NUM_WORDS\"], label=c, bins=100, alpha=0.5)\n",
    "plt.legend()\n",
    "plt.show()\n",
    "plt.close()"
   ]
  },
  {
   "cell_type": "code",
   "execution_count": 18,
   "metadata": {},
   "outputs": [],
   "source": [
    "from sklearn.model_selection import train_test_split"
   ]
  },
  {
   "cell_type": "code",
   "execution_count": 19,
   "metadata": {},
   "outputs": [],
   "source": [
    "X_train, X_val, y_train, y_val = train_test_split(df[\"POST\"], df[\"LABEL\"], \n",
    "                                                  test_size=0.1, random_state = 17, stratify = df[\"LABEL\"])\n",
    "X_train = np.array(X_train)\n",
    "X_val = np.array(X_val)\n",
    "y_train = np.array(y_train)\n",
    "y_val = np.array(y_val)"
   ]
  },
  {
   "cell_type": "markdown",
   "metadata": {},
   "source": [
    "# Count Vectorizer"
   ]
  },
  {
   "cell_type": "code",
   "execution_count": 20,
   "metadata": {},
   "outputs": [],
   "source": [
    "from sklearn.feature_extraction.text import CountVectorizer"
   ]
  },
  {
   "cell_type": "code",
   "execution_count": 21,
   "metadata": {},
   "outputs": [],
   "source": [
    "CountVec = CountVectorizer(token_pattern='\\w+', lowercase=False)"
   ]
  },
  {
   "cell_type": "code",
   "execution_count": 22,
   "metadata": {},
   "outputs": [],
   "source": [
    "sample_data = [\n",
    "    \"the quick brown fox jumps.\",\n",
    "    \"jumps over the lazy dog!\",\n",
    "    \"the lazy dog and the quick fox.\"\n",
    "]\n",
    "\n",
    "index = [\"Doc1\", \"Doc2\", \"Doc3\"]"
   ]
  },
  {
   "cell_type": "code",
   "execution_count": 23,
   "metadata": {},
   "outputs": [],
   "source": [
    "sample_counts = CountVec.fit_transform(sample_data)"
   ]
  },
  {
   "cell_type": "code",
   "execution_count": 24,
   "metadata": {},
   "outputs": [
    {
     "data": {
      "text/html": [
       "<div>\n",
       "<style scoped>\n",
       "    .dataframe tbody tr th:only-of-type {\n",
       "        vertical-align: middle;\n",
       "    }\n",
       "\n",
       "    .dataframe tbody tr th {\n",
       "        vertical-align: top;\n",
       "    }\n",
       "\n",
       "    .dataframe thead th {\n",
       "        text-align: right;\n",
       "    }\n",
       "</style>\n",
       "<table border=\"1\" class=\"dataframe\">\n",
       "  <thead>\n",
       "    <tr style=\"text-align: right;\">\n",
       "      <th></th>\n",
       "      <th>and</th>\n",
       "      <th>brown</th>\n",
       "      <th>dog</th>\n",
       "      <th>fox</th>\n",
       "      <th>jumps</th>\n",
       "      <th>lazy</th>\n",
       "      <th>over</th>\n",
       "      <th>quick</th>\n",
       "      <th>the</th>\n",
       "    </tr>\n",
       "  </thead>\n",
       "  <tbody>\n",
       "    <tr>\n",
       "      <th>Doc1</th>\n",
       "      <td>0</td>\n",
       "      <td>1</td>\n",
       "      <td>0</td>\n",
       "      <td>1</td>\n",
       "      <td>1</td>\n",
       "      <td>0</td>\n",
       "      <td>0</td>\n",
       "      <td>1</td>\n",
       "      <td>1</td>\n",
       "    </tr>\n",
       "    <tr>\n",
       "      <th>Doc2</th>\n",
       "      <td>0</td>\n",
       "      <td>0</td>\n",
       "      <td>1</td>\n",
       "      <td>0</td>\n",
       "      <td>1</td>\n",
       "      <td>1</td>\n",
       "      <td>1</td>\n",
       "      <td>0</td>\n",
       "      <td>1</td>\n",
       "    </tr>\n",
       "    <tr>\n",
       "      <th>Doc3</th>\n",
       "      <td>1</td>\n",
       "      <td>0</td>\n",
       "      <td>1</td>\n",
       "      <td>1</td>\n",
       "      <td>0</td>\n",
       "      <td>1</td>\n",
       "      <td>0</td>\n",
       "      <td>1</td>\n",
       "      <td>2</td>\n",
       "    </tr>\n",
       "  </tbody>\n",
       "</table>\n",
       "</div>"
      ],
      "text/plain": [
       "      and  brown  dog  fox  jumps  lazy  over  quick  the\n",
       "Doc1    0      1    0    1      1     0     0      1    1\n",
       "Doc2    0      0    1    0      1     1     1      0    1\n",
       "Doc3    1      0    1    1      0     1     0      1    2"
      ]
     },
     "execution_count": 24,
     "metadata": {},
     "output_type": "execute_result"
    }
   ],
   "source": [
    "pd.DataFrame(sample_counts.toarray(), columns=CountVec.get_feature_names(), index=index)"
   ]
  },
  {
   "cell_type": "code",
   "execution_count": 25,
   "metadata": {},
   "outputs": [
    {
     "data": {
      "text/plain": [
       "CountVectorizer(analyzer='word', binary=False, decode_error='strict',\n",
       "                dtype=<class 'numpy.int64'>, encoding='utf-8', input='content',\n",
       "                lowercase=True, max_df=1.0, max_features=None, min_df=1,\n",
       "                ngram_range=(1, 1), preprocessor=None, stop_words=None,\n",
       "                strip_accents=None, token_pattern='(?u)\\\\b\\\\w\\\\w+\\\\b',\n",
       "                tokenizer=None, vocabulary=None)"
      ]
     },
     "execution_count": 25,
     "metadata": {},
     "output_type": "execute_result"
    }
   ],
   "source": [
    "CountVectorizer()"
   ]
  },
  {
   "cell_type": "markdown",
   "metadata": {},
   "source": [
    "#### max_df = 0.50 means \"ignore terms that appear in more than 50% of the documents\".\n",
    "#### max_df = 25 means \"ignore terms that appear in more than 25 documents\".\n",
    "#### min_df = 0.01 means \"ignore terms that appear in less than 1% of the documents\".\n",
    "#### min_df = 5 means \"ignore terms that appear in less than 5 documents\"."
   ]
  },
  {
   "cell_type": "code",
   "execution_count": 26,
   "metadata": {},
   "outputs": [],
   "source": [
    "CountVec = CountVectorizer(token_pattern='\\w+', lowercase=False, ngram_range=(1, 2), min_df=2)"
   ]
  },
  {
   "cell_type": "code",
   "execution_count": 27,
   "metadata": {},
   "outputs": [],
   "source": [
    "sample_counts = CountVec.fit_transform(sample_data)"
   ]
  },
  {
   "cell_type": "code",
   "execution_count": 28,
   "metadata": {},
   "outputs": [
    {
     "data": {
      "text/html": [
       "<div>\n",
       "<style scoped>\n",
       "    .dataframe tbody tr th:only-of-type {\n",
       "        vertical-align: middle;\n",
       "    }\n",
       "\n",
       "    .dataframe tbody tr th {\n",
       "        vertical-align: top;\n",
       "    }\n",
       "\n",
       "    .dataframe thead th {\n",
       "        text-align: right;\n",
       "    }\n",
       "</style>\n",
       "<table border=\"1\" class=\"dataframe\">\n",
       "  <thead>\n",
       "    <tr style=\"text-align: right;\">\n",
       "      <th></th>\n",
       "      <th>dog</th>\n",
       "      <th>fox</th>\n",
       "      <th>jumps</th>\n",
       "      <th>lazy</th>\n",
       "      <th>lazy dog</th>\n",
       "      <th>quick</th>\n",
       "      <th>the</th>\n",
       "      <th>the lazy</th>\n",
       "      <th>the quick</th>\n",
       "    </tr>\n",
       "  </thead>\n",
       "  <tbody>\n",
       "    <tr>\n",
       "      <th>Doc1</th>\n",
       "      <td>0</td>\n",
       "      <td>1</td>\n",
       "      <td>1</td>\n",
       "      <td>0</td>\n",
       "      <td>0</td>\n",
       "      <td>1</td>\n",
       "      <td>1</td>\n",
       "      <td>0</td>\n",
       "      <td>1</td>\n",
       "    </tr>\n",
       "    <tr>\n",
       "      <th>Doc2</th>\n",
       "      <td>1</td>\n",
       "      <td>0</td>\n",
       "      <td>1</td>\n",
       "      <td>1</td>\n",
       "      <td>1</td>\n",
       "      <td>0</td>\n",
       "      <td>1</td>\n",
       "      <td>1</td>\n",
       "      <td>0</td>\n",
       "    </tr>\n",
       "    <tr>\n",
       "      <th>Doc3</th>\n",
       "      <td>1</td>\n",
       "      <td>1</td>\n",
       "      <td>0</td>\n",
       "      <td>1</td>\n",
       "      <td>1</td>\n",
       "      <td>1</td>\n",
       "      <td>2</td>\n",
       "      <td>1</td>\n",
       "      <td>1</td>\n",
       "    </tr>\n",
       "  </tbody>\n",
       "</table>\n",
       "</div>"
      ],
      "text/plain": [
       "      dog  fox  jumps  lazy  lazy dog  quick  the  the lazy  the quick\n",
       "Doc1    0    1      1     0         0      1    1         0          1\n",
       "Doc2    1    0      1     1         1      0    1         1          0\n",
       "Doc3    1    1      0     1         1      1    2         1          1"
      ]
     },
     "execution_count": 28,
     "metadata": {},
     "output_type": "execute_result"
    }
   ],
   "source": [
    "pd.DataFrame(sample_counts.toarray(), columns=CountVec.get_feature_names(), index=index)"
   ]
  },
  {
   "cell_type": "code",
   "execution_count": 29,
   "metadata": {},
   "outputs": [
    {
     "data": {
      "text/plain": [
       "108000"
      ]
     },
     "execution_count": 29,
     "metadata": {},
     "output_type": "execute_result"
    }
   ],
   "source": [
    "len(X_train)"
   ]
  },
  {
   "cell_type": "code",
   "execution_count": 30,
   "metadata": {},
   "outputs": [
    {
     "name": "stdout",
     "output_type": "stream",
     "text": [
      "min_df=1, number_of_words: 84771\n",
      "min_df=5, number_of_words: 31819\n",
      "min_df=10, number_of_words: 21415\n",
      "min_df=20, number_of_words: 14180\n",
      "min_df=50, number_of_words: 7898\n"
     ]
    }
   ],
   "source": [
    "for min_df in [1, 5, 10, 20, 50]:\n",
    "    CountVec = CountVectorizer(lowercase=False, token_pattern='\\w+', min_df=min_df)\n",
    "    CountVec.fit(X_train)\n",
    "    print(\"min_df={}, number_of_words: {}\".format(min_df, len(CountVec.get_feature_names())))"
   ]
  },
  {
   "cell_type": "code",
   "execution_count": 31,
   "metadata": {},
   "outputs": [
    {
     "name": "stdout",
     "output_type": "stream",
     "text": [
      "min_df=1, number_of_words: 1339499\n",
      "min_df=5, number_of_words: 148933\n",
      "min_df=10, number_of_words: 72660\n",
      "min_df=20, number_of_words: 37068\n",
      "min_df=50, number_of_words: 15528\n"
     ]
    }
   ],
   "source": [
    "for min_df in [1, 5, 10, 20, 50]:\n",
    "    CountVec = CountVectorizer(lowercase=False, token_pattern='\\w+', min_df=min_df, ngram_range=(1, 2))\n",
    "    CountVec.fit(X_train)\n",
    "    print(\"min_df={}, number_of_words: {}\".format(min_df, len(CountVec.get_feature_names())))"
   ]
  },
  {
   "cell_type": "code",
   "execution_count": null,
   "metadata": {},
   "outputs": [],
   "source": []
  },
  {
   "cell_type": "markdown",
   "metadata": {},
   "source": [
    "# Naive Bayes"
   ]
  },
  {
   "cell_type": "code",
   "execution_count": 32,
   "metadata": {},
   "outputs": [],
   "source": [
    "from sklearn.naive_bayes import MultinomialNB\n",
    "from sklearn.pipeline import Pipeline\n",
    "from sklearn.metrics import accuracy_score"
   ]
  },
  {
   "cell_type": "code",
   "execution_count": 33,
   "metadata": {},
   "outputs": [],
   "source": [
    "best_naive_bayes_score, best_naive_bayes_clf = 0, None"
   ]
  },
  {
   "cell_type": "code",
   "execution_count": 34,
   "metadata": {},
   "outputs": [
    {
     "name": "stdout",
     "output_type": "stream",
     "text": [
      "train accuracy 0.920\n",
      "val accuracy 0.906\n",
      "\n"
     ]
    }
   ],
   "source": [
    "nb = Pipeline([('countVec', CountVectorizer(lowercase=False, token_pattern='\\w+')),\n",
    "               ('clf', MultinomialNB()),])\n",
    "nb.fit(X_train, y_train)\n",
    "\n",
    "y_pred = nb.predict(X_val)\n",
    "val_score = accuracy_score(y_pred, y_val)\n",
    "\n",
    "print('train accuracy {0:,.3f}'.format(accuracy_score(nb.predict(X_train), y_train)))\n",
    "print('val accuracy {0:,.3f}\\n'.format(val_score))\n",
    "\n",
    "if val_score > best_naive_bayes_score:\n",
    "    best_naive_bayes_score = val_score\n",
    "    best_naive_bayes_clf = nb    "
   ]
  },
  {
   "cell_type": "code",
   "execution_count": 35,
   "metadata": {},
   "outputs": [
    {
     "name": "stdout",
     "output_type": "stream",
     "text": [
      "train accuracy 0.954\n",
      "val accuracy 0.913\n",
      "\n"
     ]
    }
   ],
   "source": [
    "nb = Pipeline([('countVec', CountVectorizer(lowercase=False, token_pattern='\\w+', ngram_range=(1, 2))),\n",
    "               ('clf', MultinomialNB()),])\n",
    "nb.fit(X_train, y_train)\n",
    "\n",
    "y_pred = nb.predict(X_val)\n",
    "val_score = accuracy_score(y_pred, y_val)\n",
    "\n",
    "print('train accuracy {0:,.3f}'.format(accuracy_score(nb.predict(X_train), y_train)))\n",
    "print('val accuracy {0:,.3f}\\n'.format(val_score))\n",
    "\n",
    "if val_score > best_naive_bayes_score:\n",
    "    best_naive_bayes_score = val_score\n",
    "    best_naive_bayes_clf = nb    "
   ]
  },
  {
   "cell_type": "code",
   "execution_count": 36,
   "metadata": {},
   "outputs": [
    {
     "name": "stdout",
     "output_type": "stream",
     "text": [
      "train accuracy 0.972\n",
      "val accuracy 0.913\n",
      "\n"
     ]
    }
   ],
   "source": [
    "nb = Pipeline([('countVec', CountVectorizer(lowercase=False, token_pattern='\\w+', ngram_range=(1, 3))),\n",
    "               ('clf', MultinomialNB()),])\n",
    "nb.fit(X_train, y_train)\n",
    "\n",
    "y_pred = nb.predict(X_val)\n",
    "val_score = accuracy_score(y_pred, y_val)\n",
    "\n",
    "print('train accuracy {0:,.3f}'.format(accuracy_score(nb.predict(X_train), y_train)))\n",
    "print('val accuracy {0:,.3f}\\n'.format(val_score))\n",
    "\n",
    "if val_score > best_naive_bayes_score:\n",
    "    best_naive_bayes_score = val_score\n",
    "    best_naive_bayes_clf = nb    "
   ]
  },
  {
   "cell_type": "code",
   "execution_count": null,
   "metadata": {},
   "outputs": [],
   "source": []
  },
  {
   "cell_type": "markdown",
   "metadata": {},
   "source": [
    "# Logistic Regression"
   ]
  },
  {
   "cell_type": "code",
   "execution_count": 37,
   "metadata": {},
   "outputs": [],
   "source": [
    "from sklearn.linear_model import LogisticRegression"
   ]
  },
  {
   "cell_type": "code",
   "execution_count": 38,
   "metadata": {},
   "outputs": [],
   "source": [
    "best_log_reg_score, best_log_reg_clf = 0, None"
   ]
  },
  {
   "cell_type": "code",
   "execution_count": 39,
   "metadata": {},
   "outputs": [
    {
     "name": "stdout",
     "output_type": "stream",
     "text": [
      "train accuracy 0.978\n",
      "val accuracy 0.916\n",
      "\n"
     ]
    }
   ],
   "source": [
    "logreg = Pipeline([('countVec', CountVectorizer(lowercase=False, token_pattern='\\w+')),\n",
    "                   ('clf', LogisticRegression(n_jobs=-2, solver=\"lbfgs\", random_state=42)),])\n",
    "logreg.fit(X_train, y_train)\n",
    "\n",
    "y_pred = logreg.predict(X_val)\n",
    "val_score = accuracy_score(y_pred, y_val)\n",
    "\n",
    "print('train accuracy {0:,.3f}'.format(accuracy_score(logreg.predict(X_train), y_train)))\n",
    "print('val accuracy {0:,.3f}\\n'.format(val_score))\n",
    "\n",
    "if val_score > best_log_reg_score:\n",
    "    best_log_reg_score = val_score\n",
    "    best_log_reg_clf = logreg    "
   ]
  },
  {
   "cell_type": "code",
   "execution_count": 40,
   "metadata": {},
   "outputs": [
    {
     "name": "stdout",
     "output_type": "stream",
     "text": [
      "train accuracy 1.000\n",
      "val accuracy 0.923\n",
      "\n"
     ]
    }
   ],
   "source": [
    "logreg = Pipeline([('countVec', CountVectorizer(lowercase=False, token_pattern='\\w+', ngram_range=(1, 2))),\n",
    "                   ('clf', LogisticRegression(n_jobs=-2, solver=\"lbfgs\", random_state=42)),])\n",
    "logreg.fit(X_train, y_train)\n",
    "\n",
    "y_pred = logreg.predict(X_val)\n",
    "val_score = accuracy_score(y_pred, y_val)\n",
    "\n",
    "print('train accuracy {0:,.3f}'.format(accuracy_score(logreg.predict(X_train), y_train)))\n",
    "print('val accuracy {0:,.3f}\\n'.format(val_score))\n",
    "\n",
    "if val_score > best_log_reg_score:\n",
    "    best_log_reg_score = val_score\n",
    "    best_log_reg_clf = logreg    "
   ]
  },
  {
   "cell_type": "code",
   "execution_count": null,
   "metadata": {},
   "outputs": [],
   "source": []
  },
  {
   "cell_type": "markdown",
   "metadata": {},
   "source": [
    "# TF-IDF"
   ]
  },
  {
   "cell_type": "code",
   "execution_count": 41,
   "metadata": {},
   "outputs": [],
   "source": [
    "from sklearn.feature_extraction.text import TfidfVectorizer"
   ]
  },
  {
   "cell_type": "code",
   "execution_count": 42,
   "metadata": {},
   "outputs": [],
   "source": [
    "TFIDF = TfidfVectorizer(token_pattern='\\w+', lowercase=False)"
   ]
  },
  {
   "cell_type": "code",
   "execution_count": 43,
   "metadata": {},
   "outputs": [],
   "source": [
    "sample_tf_counts = TFIDF.fit_transform(sample_data)"
   ]
  },
  {
   "cell_type": "code",
   "execution_count": 44,
   "metadata": {},
   "outputs": [
    {
     "data": {
      "text/html": [
       "<div>\n",
       "<style scoped>\n",
       "    .dataframe tbody tr th:only-of-type {\n",
       "        vertical-align: middle;\n",
       "    }\n",
       "\n",
       "    .dataframe tbody tr th {\n",
       "        vertical-align: top;\n",
       "    }\n",
       "\n",
       "    .dataframe thead th {\n",
       "        text-align: right;\n",
       "    }\n",
       "</style>\n",
       "<table border=\"1\" class=\"dataframe\">\n",
       "  <thead>\n",
       "    <tr style=\"text-align: right;\">\n",
       "      <th></th>\n",
       "      <th>and</th>\n",
       "      <th>brown</th>\n",
       "      <th>dog</th>\n",
       "      <th>fox</th>\n",
       "      <th>jumps</th>\n",
       "      <th>lazy</th>\n",
       "      <th>over</th>\n",
       "      <th>quick</th>\n",
       "      <th>the</th>\n",
       "    </tr>\n",
       "  </thead>\n",
       "  <tbody>\n",
       "    <tr>\n",
       "      <th>Doc1</th>\n",
       "      <td>0.00</td>\n",
       "      <td>0.57</td>\n",
       "      <td>0.00</td>\n",
       "      <td>0.43</td>\n",
       "      <td>0.43</td>\n",
       "      <td>0.00</td>\n",
       "      <td>0.00</td>\n",
       "      <td>0.43</td>\n",
       "      <td>0.34</td>\n",
       "    </tr>\n",
       "    <tr>\n",
       "      <th>Doc2</th>\n",
       "      <td>0.00</td>\n",
       "      <td>0.00</td>\n",
       "      <td>0.43</td>\n",
       "      <td>0.00</td>\n",
       "      <td>0.43</td>\n",
       "      <td>0.43</td>\n",
       "      <td>0.57</td>\n",
       "      <td>0.00</td>\n",
       "      <td>0.34</td>\n",
       "    </tr>\n",
       "    <tr>\n",
       "      <th>Doc3</th>\n",
       "      <td>0.46</td>\n",
       "      <td>0.00</td>\n",
       "      <td>0.35</td>\n",
       "      <td>0.35</td>\n",
       "      <td>0.00</td>\n",
       "      <td>0.35</td>\n",
       "      <td>0.00</td>\n",
       "      <td>0.35</td>\n",
       "      <td>0.54</td>\n",
       "    </tr>\n",
       "  </tbody>\n",
       "</table>\n",
       "</div>"
      ],
      "text/plain": [
       "       and  brown   dog   fox  jumps  lazy  over  quick   the\n",
       "Doc1  0.00   0.57  0.00  0.43   0.43  0.00  0.00   0.43  0.34\n",
       "Doc2  0.00   0.00  0.43  0.00   0.43  0.43  0.57   0.00  0.34\n",
       "Doc3  0.46   0.00  0.35  0.35   0.00  0.35  0.00   0.35  0.54"
      ]
     },
     "execution_count": 44,
     "metadata": {},
     "output_type": "execute_result"
    }
   ],
   "source": [
    "pd.DataFrame(sample_tf_counts.toarray(), columns=TFIDF.get_feature_names(), index=index).round(2)"
   ]
  },
  {
   "cell_type": "code",
   "execution_count": null,
   "metadata": {},
   "outputs": [],
   "source": []
  },
  {
   "cell_type": "code",
   "execution_count": 45,
   "metadata": {},
   "outputs": [
    {
     "name": "stdout",
     "output_type": "stream",
     "text": [
      "train accuracy 0.940\n",
      "val accuracy 0.910\n",
      "\n"
     ]
    }
   ],
   "source": [
    "nb = Pipeline([('tfidf', TfidfVectorizer(lowercase=False, token_pattern='\\w+', ngram_range=(1, 2))),\n",
    "               ('clf', MultinomialNB()),])\n",
    "nb.fit(X_train, y_train)\n",
    "\n",
    "y_pred = nb.predict(X_val)\n",
    "val_score = accuracy_score(y_pred, y_val)\n",
    "\n",
    "print('train accuracy {0:,.3f}'.format(accuracy_score(nb.predict(X_train), y_train)))\n",
    "print('val accuracy {0:,.3f}\\n'.format(val_score))\n",
    "\n",
    "if val_score > best_naive_bayes_score:\n",
    "    best_naive_bayes_score = val_score\n",
    "    best_naive_bayes_clf = nb"
   ]
  },
  {
   "cell_type": "code",
   "execution_count": 46,
   "metadata": {},
   "outputs": [
    {
     "name": "stdout",
     "output_type": "stream",
     "text": [
      "train accuracy 0.949\n",
      "val accuracy 0.914\n",
      "\n"
     ]
    }
   ],
   "source": [
    "logreg = Pipeline([('tfidf', TfidfVectorizer(lowercase=False, token_pattern='\\w+', ngram_range=(1, 2))),\n",
    "                   ('clf', LogisticRegression(n_jobs=-2, solver=\"lbfgs\", random_state=42)),])\n",
    "logreg.fit(X_train, y_train)\n",
    "\n",
    "y_pred = logreg.predict(X_val)\n",
    "val_score = accuracy_score(y_pred, y_val)\n",
    "\n",
    "print('train accuracy {0:,.3f}'.format(accuracy_score(logreg.predict(X_train), y_train)))\n",
    "print('val accuracy {0:,.3f}\\n'.format(val_score))\n",
    "\n",
    "if val_score > best_log_reg_score:\n",
    "    best_log_reg_score = val_score\n",
    "    best_log_reg_clf = logreg"
   ]
  },
  {
   "cell_type": "code",
   "execution_count": null,
   "metadata": {},
   "outputs": [],
   "source": []
  },
  {
   "cell_type": "code",
   "execution_count": 47,
   "metadata": {},
   "outputs": [],
   "source": [
    "from fastText import train_supervised\n",
    "\n",
    "def to_fasttext_format(data: list, labels: list, save_path: str=None):\n",
    "    ft_data = []\n",
    "    for d, l in zip(data, labels):\n",
    "        ft_data.append(\"__label__{} {}\".format(l, d))\n",
    "    if save_path:\n",
    "        np.savetxt(save_path, ft_data, fmt='%s')\n",
    "    else:\n",
    "        return ft_data\n",
    "    \n",
    "def train_fasttext(X_train, y_train, wordNgrams=1, minCount=1, ft_train_path=\"./data/tmp_train.txt\"):\n",
    "    to_fasttext_format(X_train, y_train, save_path=ft_train_path)\n",
    "    ft_model = train_supervised(ft_train_path, wordNgrams=wordNgrams, minCount=minCount, epoch=10, loss=\"ns\")\n",
    "    train_preds = [i[0].split('_')[-1] for i in ft_model.predict(list(X_train))[0]]    \n",
    "    print('train accuracy {0:,.3f}'.format(accuracy_score(train_preds, y_train)))\n",
    "    \n",
    "    return ft_model"
   ]
  },
  {
   "cell_type": "code",
   "execution_count": 48,
   "metadata": {},
   "outputs": [],
   "source": [
    "best_fasttext_score, best_fasttext_clf = 0, None"
   ]
  },
  {
   "cell_type": "code",
   "execution_count": 49,
   "metadata": {},
   "outputs": [
    {
     "name": "stdout",
     "output_type": "stream",
     "text": [
      "train accuracy 0.987\n",
      "val accuracy 0.914\n"
     ]
    }
   ],
   "source": [
    "ft_model = train_fasttext(X_train, y_train)\n",
    "val_preds = [i[0].split('_')[-1] for i in ft_model.predict(list(X_val))[0]]\n",
    "val_score = accuracy_score(val_preds, y_val)\n",
    "print('val accuracy {0:,.3f}'.format(val_score))\n",
    "\n",
    "if val_score > best_fasttext_score:\n",
    "    best_fasttext_score = val_score\n",
    "    best_fasttext_clf = ft_model    "
   ]
  },
  {
   "cell_type": "code",
   "execution_count": 50,
   "metadata": {},
   "outputs": [
    {
     "name": "stdout",
     "output_type": "stream",
     "text": [
      "train accuracy 1.000\n",
      "val accuracy 0.920\n"
     ]
    }
   ],
   "source": [
    "ft_model = train_fasttext(X_train, y_train, wordNgrams=2)\n",
    "val_preds = [i[0].split('_')[-1] for i in ft_model.predict(list(X_val))[0]]\n",
    "val_score = accuracy_score(val_preds, y_val)\n",
    "print('val accuracy {0:,.3f}'.format(val_score))\n",
    "\n",
    "if val_score > best_fasttext_score:\n",
    "    best_fasttext_score = val_score\n",
    "    best_fasttext_clf = ft_model    "
   ]
  },
  {
   "cell_type": "code",
   "execution_count": null,
   "metadata": {},
   "outputs": [],
   "source": []
  },
  {
   "cell_type": "markdown",
   "metadata": {},
   "source": [
    "# text preprocessing"
   ]
  },
  {
   "cell_type": "code",
   "execution_count": 51,
   "metadata": {},
   "outputs": [],
   "source": [
    "word_counts = {}\n",
    "for post in X_train:\n",
    "    for word in post.split():\n",
    "        if word in word_counts:\n",
    "            word_counts[word] += 1\n",
    "        else:\n",
    "            word_counts[word] = 1"
   ]
  },
  {
   "cell_type": "code",
   "execution_count": 52,
   "metadata": {
    "scrolled": true
   },
   "outputs": [
    {
     "data": {
      "text/plain": [
       "[('the', 159491),\n",
       " ('to', 105904),\n",
       " ('a', 88393),\n",
       " ('of', 87522),\n",
       " ('in', 83008),\n",
       " ('and', 61241),\n",
       " ('on', 49700),\n",
       " ('for', 43587),\n",
       " ('-', 35254),\n",
       " ('#39;s', 27798)]"
      ]
     },
     "execution_count": 52,
     "metadata": {},
     "output_type": "execute_result"
    }
   ],
   "source": [
    "top_k = 10\n",
    "sorted(word_counts.items(), key=lambda t: t[1], reverse=True)[:top_k]"
   ]
  },
  {
   "cell_type": "code",
   "execution_count": 53,
   "metadata": {},
   "outputs": [],
   "source": [
    "from nltk.corpus import stopwords"
   ]
  },
  {
   "cell_type": "code",
   "execution_count": 54,
   "metadata": {},
   "outputs": [],
   "source": [
    "stop_words = set(stopwords.words('english'))"
   ]
  },
  {
   "cell_type": "code",
   "execution_count": 55,
   "metadata": {},
   "outputs": [
    {
     "name": "stdout",
     "output_type": "stream",
     "text": [
      "- 35254\n",
      "#39;s 27798\n",
      "said 14811\n",
      "(Reuters) 11576\n",
      "US 10382\n",
      "new 9195\n",
      "(AP) 7472\n",
      "first 7354\n",
      "-- 7104\n",
      "AP 7010\n"
     ]
    }
   ],
   "source": [
    "cnt = 0\n",
    "for w, c in sorted(word_counts.items(), key=lambda t: t[1], reverse=True):\n",
    "    if w.lower() not in stop_words:\n",
    "        print(w, c)\n",
    "        cnt += 1\n",
    "        if cnt == top_k:\n",
    "            break"
   ]
  },
  {
   "cell_type": "code",
   "execution_count": 56,
   "metadata": {},
   "outputs": [],
   "source": [
    "def get_sample_with(data, expr, size=5, with_spaces=True):\n",
    "    try:\n",
    "        if with_spaces:\n",
    "            [print(i, end='\\n\\n') for i in np.random.choice([i for i in data if ' {} '.format(expr) in i], size)]\n",
    "        else:\n",
    "            [print(i, end='\\n\\n') for i in np.random.choice([i for i in data if expr in i], size)]\n",
    "    except:\n",
    "        return \"no such examples\""
   ]
  },
  {
   "cell_type": "code",
   "execution_count": 57,
   "metadata": {},
   "outputs": [
    {
     "name": "stdout",
     "output_type": "stream",
     "text": [
      "NASA Prepares for Future Space Exploration Risk CLEVELAND, OH -- As NASA (news - web sites) readies the space shuttle fleet to fly again, the agency #39;s risk management teams are also paying attention to risk issues that affect the International Space Station (news - web sites).\n",
      "\n",
      "Mistakes lead to Berlin fall MIAMI The opening series for Miami couldn #39;t have begun more promisingly. On first down from the 50, Brock Berlin completed a 24-yard pass to Virginia Tech #39;s 26.\n",
      "\n",
      "Samsung to Launch Phone with Mini Hard Drive Samsung Electronics Co. Ltd., the world #39;s third-largest handset maker, said on Tuesday it was launching the first mobile phone with a stamp-sized hard disc drive this month that would expand the memory capacity by 15 times.\n",
      "\n"
     ]
    }
   ],
   "source": [
    "get_sample_with(X_train, \" #39;\", with_spaces=False, size=3)"
   ]
  },
  {
   "cell_type": "code",
   "execution_count": 58,
   "metadata": {},
   "outputs": [
    {
     "name": "stdout",
     "output_type": "stream",
     "text": [
      "Space capsule crashes Genesis, payload of solar particles slam &lt;b&gt;...&lt;/b&gt; The Genesis space capsule and its precious cargo -- billions of particles from the sun -- crashed into the Utah desert Wednesday in a last-minute bungling of a near-flawless, three-year scientific odyssey.\n",
      "\n",
      "Cassini found two little Saturn moons BEIJING, Aug.18(Xinhuanet) -- NASA #39;s Cassini spacecraft has spied two new moons around the satellite-rich Saturn. \n",
      "\n",
      "Asia DRAM Report:Samsung Elec To Up DRAM Output Vs Flash SEOUL (Dow Jones)--A precipitous fall in prices for flash-memory chips and anticipated demand for next-generation DDR2 dynamic random access memory chips has spurred Samsung Electronics Co.\n",
      "\n"
     ]
    }
   ],
   "source": [
    "get_sample_with(X_train, \"--\", with_spaces=False, size=3)"
   ]
  },
  {
   "cell_type": "code",
   "execution_count": 59,
   "metadata": {},
   "outputs": [
    {
     "data": {
      "text/plain": [
       "[('8.2megapixel', 1),\n",
       " ('single-lens', 1),\n",
       " ('(SLR)', 1),\n",
       " ('semi-professional', 1),\n",
       " ('EOS', 1),\n",
       " ('20D,', 1),\n",
       " ('film-based', 1),\n",
       " ('led,', 1),\n",
       " ('\"vilification\"', 1),\n",
       " ('(CTIA', 1)]"
      ]
     },
     "execution_count": 59,
     "metadata": {},
     "output_type": "execute_result"
    }
   ],
   "source": [
    "sorted(word_counts.items(), key=lambda t: t[1])[:top_k]"
   ]
  },
  {
   "cell_type": "code",
   "execution_count": 60,
   "metadata": {},
   "outputs": [
    {
     "data": {
      "text/plain": [
       "['!',\n",
       " '!!?\\\\\\\\&lt;Bush&gt;',\n",
       " '!!\\\\\\\\&lt;Bush&gt;',\n",
       " '!).',\n",
       " '!K7',\n",
       " '\"',\n",
       " '\"\\'CSI\\'',\n",
       " '\".jobs\"',\n",
       " '\".md\"',\n",
       " '\".mobi\"',\n",
       " '\".post\"',\n",
       " '\".travel\"',\n",
       " '\"10',\n",
       " '\"100',\n",
       " '\"200',\n",
       " '\"2046\"',\n",
       " '\"24\"',\n",
       " '\"400',\n",
       " '\"403',\n",
       " '\"47',\n",
       " '\"50-50\"',\n",
       " '\"527\"',\n",
       " '\"60',\n",
       " '\"75',\n",
       " '\"A',\n",
       " '\"A\"-listers',\n",
       " '\"A1\"\\\\from',\n",
       " '\"A2,\"',\n",
       " '\"AdWords',\n",
       " '\"Add',\n",
       " '\"Aeon',\n",
       " '\"Agassi,',\n",
       " '\"Air',\n",
       " '\"Alex',\n",
       " '\"Alien',\n",
       " '\"Alive\"',\n",
       " '\"All',\n",
       " '\"America',\n",
       " '\"American',\n",
       " '\"And',\n",
       " '\"Angels',\n",
       " '\"Anna',\n",
       " '\"Anything',\n",
       " '\"Apple',\n",
       " '\"Aren\\'t',\n",
       " '\"Ari\"',\n",
       " '\"Around',\n",
       " '\"Arrested',\n",
       " '\"As',\n",
       " '\"Asian',\n",
       " '\"Ask',\n",
       " '\"Asteroid,\"',\n",
       " '\"Astro',\n",
       " '\"AstroTurf\"',\n",
       " '\"Atari',\n",
       " '\"Atkins\"',\n",
       " '\"Ayurvedic\"',\n",
       " '\"Beam',\n",
       " '\"Because,\"',\n",
       " '\"Being',\n",
       " '\"Big',\n",
       " '\"Billy,',\n",
       " '\"BioBus\"',\n",
       " '\"Black',\n",
       " '\"Blade:',\n",
       " '\"Blaster\"',\n",
       " '\"Blind\"',\n",
       " '\"Bloody',\n",
       " '\"Blue',\n",
       " '\"Boost\"',\n",
       " '\"Boots\"',\n",
       " '\"Boston',\n",
       " '\"Bourne',\n",
       " '\"Buckyball\"',\n",
       " '\"Buenos',\n",
       " '\"Bush-Kerry',\n",
       " '\"CBS',\n",
       " '\"Cachirulo,\"',\n",
       " '\"Call',\n",
       " '\"Camp',\n",
       " '\"Can',\n",
       " '\"Captain',\n",
       " '\"Carmen',\n",
       " '\"Cars\"',\n",
       " '\"Celebrating',\n",
       " '\"Cell\"',\n",
       " '\"Cellular,\"',\n",
       " '\"Centipede\"',\n",
       " '\"Changes',\n",
       " '\"Chapter',\n",
       " '\"Chase',\n",
       " '\"Che\"',\n",
       " '\"Che\\'s',\n",
       " '\"Chemical',\n",
       " '\"Cheney',\n",
       " '\"Chente,',\n",
       " '\"Chess',\n",
       " '\"Chip\"',\n",
       " '\"City',\n",
       " '\"Class',\n",
       " '\"Clicks\"\\\\\\\\Google',\n",
       " '\"Clinton',\n",
       " '\"Clubhouse,\"',\n",
       " '\"Clusty\"',\n",
       " '\"Collateral,\"',\n",
       " '\"College',\n",
       " '\"Columbia',\n",
       " '\"Columbia\"',\n",
       " '\"Confessions',\n",
       " '\"Contingent\"',\n",
       " '\"Counter',\n",
       " '\"Couple',\n",
       " '\"Courage',\n",
       " '\"Crane.',\n",
       " '\"Crossfire\"',\n",
       " '\"Crouching',\n",
       " '\"Crusty\"',\n",
       " '\"Cues',\n",
       " '\"Curse',\n",
       " '\"Custom',\n",
       " '\"DB\"',\n",
       " '\"DS\"',\n",
       " '\"DWA.\"',\n",
       " '\"DWA.\"&lt;/p&gt;',\n",
       " '\"Dances',\n",
       " '\"Danny',\n",
       " '\"Dateline',\n",
       " '\"Days',\n",
       " '\"Dazed',\n",
       " '\"Deep',\n",
       " '\"Defacing\"',\n",
       " '\"Desperate',\n",
       " '\"Dextre,\"',\n",
       " '\"Die',\n",
       " '\"Dirt',\n",
       " '\"Dirty',\n",
       " '\"Disco',\n",
       " '\"Dixie.\"',\n",
       " '\"Do',\n",
       " '\"Don\\'t',\n",
       " '\"Donkey',\n",
       " '\"Doom',\n",
       " '\"Doonesbury.\"',\n",
       " '\"Dream',\n",
       " '\"Drop',\n",
       " '\"Dual',\n",
       " '\"Duce,',\n",
       " '\"E411\"',\n",
       " '\"EEVL\"',\n",
       " '\"ESPN',\n",
       " '\"Eat',\n",
       " '\"El',\n",
       " '\"Electricity.\"',\n",
       " '\"Emerging',\n",
       " '\"End-to-end\"',\n",
       " '\"Endymion,\"',\n",
       " '\"Entertainment',\n",
       " '\"Europa',\n",
       " '\"Europe\\'s',\n",
       " '\"EverQuest',\n",
       " '\"Every',\n",
       " '\"Everyone\\'s',\n",
       " '\"Evil',\n",
       " '\"Excel.\"',\n",
       " '\"Express',\n",
       " '\"Extending',\n",
       " '\"Faces',\n",
       " '\"Fahrenheit',\n",
       " '\"Fake\"',\n",
       " '\"Fiddler',\n",
       " '\"Finding',\n",
       " '\"First',\n",
       " '\"Fish\"',\n",
       " '\"For',\n",
       " '\"Foreigners',\n",
       " '\"Frasier,\"',\n",
       " '\"Frasier,\"\"Friends\"',\n",
       " '\"Freedom',\n",
       " '\"Freedom\\'s',\n",
       " '\"French',\n",
       " '\"Friends\"',\n",
       " '\"Friends,\"',\n",
       " '\"Friends.\"',\n",
       " '\"From',\n",
       " '\"Frozen.\"',\n",
       " '\"Futuresport\")',\n",
       " '\"GOOG\"',\n",
       " '\"Garciaparra\"',\n",
       " '\"Gee,',\n",
       " '\"Geniuses\"',\n",
       " '\"Gentlemen,',\n",
       " '\"Get',\n",
       " '\"Getting',\n",
       " '\"Gloria,\"',\n",
       " '\"God',\n",
       " '\"Going',\n",
       " '\"Golden',\n",
       " '\"Good',\n",
       " '\"Good\"',\n",
       " '\"Google',\n",
       " '\"Google\"',\n",
       " '\"Googled\"',\n",
       " '\"Gran',\n",
       " '\"Grand',\n",
       " '\"Grand\\\\Theft',\n",
       " '\"Grantsdale\"',\n",
       " '\"Great',\n",
       " '\"Greatest',\n",
       " '\"Greed',\n",
       " '\"Green',\n",
       " '\"Greenland',\n",
       " '\"Grim',\n",
       " '\"Ground',\n",
       " '\"Groundhog',\n",
       " '\"Guano',\n",
       " '\"HD',\n",
       " '\"Hail',\n",
       " '\"Half-Life',\n",
       " '\"Half-Life.\"',\n",
       " '\"Hall',\n",
       " '\"Halloween',\n",
       " '\"Halo',\n",
       " '\"Halo\"',\n",
       " '\"Halo,\"',\n",
       " '\"Hamburg',\n",
       " '\"Harmony\"',\n",
       " '\"Harry,\"',\n",
       " '\"Hawaii',\n",
       " '\"Hazmat:Hotzone\"',\n",
       " '\"He',\n",
       " '\"He\\'s',\n",
       " '\"Hey',\n",
       " '\"Hi',\n",
       " '\"High',\n",
       " '\"Hitman:',\n",
       " '\"Hobbit\"',\n",
       " '\"Hockey',\n",
       " '\"Hogs\"',\n",
       " '\"Home',\n",
       " '\"Hotel',\n",
       " '\"How\\\\to',\n",
       " '\"Human',\n",
       " '\"I',\n",
       " '\"I\\'d',\n",
       " '\"I\\'ll',\n",
       " '\"I\\'m',\n",
       " '\"I-4',\n",
       " '\"If',\n",
       " '\"Ig',\n",
       " '\"In',\n",
       " '\"Incredibles\"',\n",
       " '\"Indianapolis',\n",
       " '\"Indians',\n",
       " '\"Information',\n",
       " '\"Innovations',\n",
       " '\"Instant',\n",
       " '\"Internet',\n",
       " '\"Iraq-like',\n",
       " '\"Iraq-style\"',\n",
       " '\"It',\n",
       " '\"It\"',\n",
       " '\"It\\'s',\n",
       " '\"Jack\"',\n",
       " '\"Jam',\n",
       " '\"Java,\"',\n",
       " '\"Jaws\"',\n",
       " '\"Je',\n",
       " '\"Jeopardy!\"',\n",
       " '\"Jesus',\n",
       " '\"Jews',\n",
       " '\"Jiminy',\n",
       " '\"Joe-4-Wind\"',\n",
       " '\"Joey\"',\n",
       " '\"Joey.\"',\n",
       " '\"Jordan',\n",
       " '\"Jurassic\"',\n",
       " '\"Just',\n",
       " '\"KEEP',\n",
       " '\"Kerry',\n",
       " '\"Killing',\n",
       " '\"King',\n",
       " '\"Kooky\"',\n",
       " '\"LAX,\"',\n",
       " '\"LV\"',\n",
       " '\"Ladder',\n",
       " '\"Late',\n",
       " '\"Lay',\n",
       " '\"Leader',\n",
       " '\"Leave',\n",
       " '\"Leisure',\n",
       " '\"Les',\n",
       " '\"Let\\'s',\n",
       " '\"Living',\n",
       " '\"Lois',\n",
       " '\"Longhair\"',\n",
       " '\"Longhorn\"',\n",
       " '\"Longhorn,\"',\n",
       " '\"Look',\n",
       " '\"Lord',\n",
       " '\"Lost',\n",
       " '\"Lost\"',\n",
       " '\"Love',\n",
       " '\"MSBlast.B\"',\n",
       " '\"MVP!',\n",
       " '\"MacGyver\"-style',\n",
       " '\"Macworld',\n",
       " '\"Madden',\n",
       " '\"Madonna\"',\n",
       " '\"Madonna.\"',\n",
       " '\"Mail\"',\n",
       " '\"Make',\n",
       " '\"Married',\n",
       " '\"Martyrs',\n",
       " '\"Masala\"',\n",
       " '\"Mathematica,\"',\n",
       " '\"Matildas\"',\n",
       " '\"Meet',\n",
       " '\"Memories',\n",
       " '\"Midnight',\n",
       " '\"Minister',\n",
       " '\"Miracle',\n",
       " '\"Miracle\"',\n",
       " '\"Mission',\n",
       " '\"Mo\"',\n",
       " '\"Monday',\n",
       " '\"Monster',\n",
       " '\"Monster\"',\n",
       " '\"Mortal',\n",
       " '\"Most',\n",
       " '\"Motorcycle',\n",
       " '\"MoveOn',\n",
       " '\"Movie',\n",
       " '\"Mr.',\n",
       " '\"Mummy',\n",
       " '\"My',\n",
       " '\"Myst\"',\n",
       " '\"Myst,\"',\n",
       " '\"Mystery',\n",
       " '\"NACA\"',\n",
       " '\"NASCAR',\n",
       " '\"National',\n",
       " '\"Natural\"',\n",
       " '\"Need',\n",
       " '\"Niagara\"',\n",
       " '\"Nightmare',\n",
       " '\"No',\n",
       " '\"No\"',\n",
       " '\"Nobody',\n",
       " '\"Noel\"',\n",
       " '\"Nothing',\n",
       " '\"Obsidian,\"',\n",
       " '\"October',\n",
       " '\"Odds',\n",
       " '\"Odyssey',\n",
       " '\"Of',\n",
       " '\"Offseason',\n",
       " '\"Often',\n",
       " '\"Oh',\n",
       " '\"Oh,',\n",
       " '\"On',\n",
       " '\"Only',\n",
       " '\"Open',\n",
       " '\"Opener,\"',\n",
       " '\"Operation',\n",
       " '\"Opie',\n",
       " '\"Orange',\n",
       " '\"Oscars\"',\n",
       " '\"Our',\n",
       " '\"P-word\"',\n",
       " '\"Pandora\\'s',\n",
       " '\"Panther\"',\n",
       " '\"Panther,\"',\n",
       " '\"Partner',\n",
       " '\"Passion',\n",
       " '\"Pay',\n",
       " '\"People\\'s',\n",
       " '\"Per',\n",
       " '\"Personal',\n",
       " '\"Peter',\n",
       " '\"Phir',\n",
       " '\"Pink',\n",
       " '\"Plasma',\n",
       " '\"Pocket',\n",
       " '\"Point',\n",
       " '\"Polar',\n",
       " '\"Pong.\"',\n",
       " '\"Popeye\\'s',\n",
       " '\"Pops\"',\n",
       " '\"Primer,\"',\n",
       " '\"Protect',\n",
       " '\"Punk\\'d,\"',\n",
       " '\"Pyramid',\n",
       " '\"Quake\"',\n",
       " '\"Qualia\"',\n",
       " '\"R\"',\n",
       " '\"Rapala',\n",
       " '\"Rebel',\n",
       " '\"Red',\n",
       " '\"Red\"',\n",
       " '\"Reindeer',\n",
       " '\"Resident',\n",
       " '\"Reuters',\n",
       " '\"Riders',\n",
       " '\"Right',\n",
       " '\"Ring\"',\n",
       " '\"Ringback\"',\n",
       " '\"Rip.',\n",
       " '\"Roblimo\"',\n",
       " '\"Robo',\n",
       " '\"Rock',\n",
       " '\"Roomba\"',\n",
       " '\"Rudy\"',\n",
       " '\"Rumble',\n",
       " '\"Run',\n",
       " '\"Russia',\n",
       " '\"SH/Renepo-A.\"',\n",
       " '\"SP2\"',\n",
       " '\"Sabado',\n",
       " '\"Saint',\n",
       " '\"Santa',\n",
       " '\"Santa\"',\n",
       " '\"Saturday',\n",
       " '\"Say',\n",
       " '\"Schwarzenegger',\n",
       " '\"Scream,\"',\n",
       " '\"Seabiscuit.\"',\n",
       " '\"Search',\n",
       " '\"Sex',\n",
       " '\"Shadow',\n",
       " '\"Shark',\n",
       " '\"She',\n",
       " '\"She\\'s',\n",
       " '\"Shell',\n",
       " '\"Shock',\n",
       " '\"Shoeless\"',\n",
       " '\"Shorthorn\"',\n",
       " '\"Show',\n",
       " '\"Shrek',\n",
       " '\"Sideways\"',\n",
       " '\"Sims',\n",
       " '\"Singing',\n",
       " '\"Skip\"',\n",
       " '\"Skulls\"',\n",
       " '\"Sky',\n",
       " '\"Slate,\"',\n",
       " '\"Sleeping',\n",
       " '\"SmackDown\"',\n",
       " '\"Smart',\n",
       " '\"Smart\"',\n",
       " '\"Solitaire\"',\n",
       " '\"Sorry,',\n",
       " '\"Spam',\n",
       " '\"Spiritual',\n",
       " '\"Spy',\n",
       " '\"Star',\n",
       " '\"Steel\"',\n",
       " '\"Steve',\n",
       " '\"Still',\n",
       " '\"Stinger\"',\n",
       " '\"Stop,',\n",
       " '\"Stuff',\n",
       " '\"Super',\n",
       " '\"Switch',\n",
       " '\"Swordfish.\"',\n",
       " '\"TV',\n",
       " '\"Taiwan\"',\n",
       " '\"Taj',\n",
       " '\"Take',\n",
       " '\"Tale\"',\n",
       " '\"Taleban\"',\n",
       " '\"TechKnow\"',\n",
       " '\"Ted\"',\n",
       " '\"Ten',\n",
       " '\"Terrorism',\n",
       " '\"Tessie\"',\n",
       " '\"Thank',\n",
       " '\"That',\n",
       " '\"That\\'s',\n",
       " '\"The',\n",
       " '\"The\\\\Sopranos\"',\n",
       " '\"There',\n",
       " '\"There\\'s',\n",
       " '\"These',\n",
       " '\"They',\n",
       " '\"Thief\"',\n",
       " '\"Thirty',\n",
       " '\"This',\n",
       " '\"Three',\n",
       " '\"Three-Ring',\n",
       " '\"TiVoToGo,\"',\n",
       " '\"Tinker\"',\n",
       " '\"To',\n",
       " '\"Today',\n",
       " '\"Today\"',\n",
       " '\"Tomb',\n",
       " '\"Tonight\"',\n",
       " '\"Tony',\n",
       " '\"Too',\n",
       " '\"Top',\n",
       " '\"Tower',\n",
       " '\"TradeWorks\"',\n",
       " '\"Troubles.\"',\n",
       " '\"Trustworthy',\n",
       " '\"Tweel,\"',\n",
       " '\"UPDATE',\n",
       " '\"Unacceptable\"',\n",
       " '\"Uncle',\n",
       " '\"Under',\n",
       " '\"Unscrewed.\"',\n",
       " '\"Unusually',\n",
       " '\"Vassili\"',\n",
       " '\"Vertigo,\"',\n",
       " '\"Vision',\n",
       " '\"Volcano',\n",
       " '\"Want',\n",
       " '\"Washington\"',\n",
       " '\"Way',\n",
       " '\"We',\n",
       " '\"We\\'re',\n",
       " '\"We\\'ve',\n",
       " '\"Wedding',\n",
       " '\"Weird\"',\n",
       " '\"Well,',\n",
       " '\"What',\n",
       " '\"What\\'s',\n",
       " '\"When',\n",
       " '\"Which',\n",
       " '\"While',\n",
       " '\"Whitehorse\"',\n",
       " '\"Why',\n",
       " '\"Wider',\n",
       " '\"Will',\n",
       " '\"Willy',\n",
       " '\"Windows,\"',\n",
       " '\"Winter',\n",
       " '\"Witchcraft,\"',\n",
       " '\"Wonder',\n",
       " '\"Wonderful',\n",
       " '\"Working',\n",
       " '\"World',\n",
       " '\"WrestleMania,\"',\n",
       " '\"X-Men\"',\n",
       " '\"Year\\'s',\n",
       " '\"You',\n",
       " '\"You\\'ve',\n",
       " '\"Your',\n",
       " '\"Yuck,\"',\n",
       " '\"Zell',\n",
       " '\"\\\\',\n",
       " '\"\\\\\\\\\"Now,',\n",
       " '\"\\\\\\\\\"Only,',\n",
       " '\"a',\n",
       " '\"a\\\\large',\n",
       " '\"aberration.\"',\n",
       " '\"abhorrent',\n",
       " '\"abrupt',\n",
       " '\"accepts',\n",
       " '\"access',\n",
       " '\"accomplices',\n",
       " '\"acting',\n",
       " '\"action\"',\n",
       " '\"acts',\n",
       " '\"actual',\n",
       " '\"adapting\"',\n",
       " '\"addresses',\n",
       " '\"adopt\"',\n",
       " '\"adult',\n",
       " '\"adware,\"',\n",
       " '\"affiliate\"',\n",
       " '\"after',\n",
       " '\"agents',\n",
       " '\"aggressively',\n",
       " '\"alarmingly',\n",
       " '\"all',\n",
       " '\"all-out',\n",
       " '\"all-out\"',\n",
       " '\"all\\\\Olympic',\n",
       " '\"almost',\n",
       " '\"alternative',\n",
       " '\"an',\n",
       " '\"and',\n",
       " '\"anti-French',\n",
       " '\"anti-terrorist\"',\n",
       " '\"any',\n",
       " '\"are',\n",
       " '\"armchair',\n",
       " '\"armies',\n",
       " '\"around',\n",
       " '\"arranged',\n",
       " '\"arranged\"',\n",
       " '\"arrogant',\n",
       " '\"as',\n",
       " '\"ashamed\"',\n",
       " '\"assassinating',\n",
       " '\"assassination',\n",
       " '\"astonishing',\n",
       " '\"at-a-glance\"',\n",
       " '\"ate',\n",
       " '\"awake',\n",
       " '\"away',\n",
       " '\"away\"',\n",
       " '\"awoken\\\\from',\n",
       " '\"back',\n",
       " '\"backsliding\"',\n",
       " '\"bad',\n",
       " '\"ban',\n",
       " '\"banned',\n",
       " '\"barn',\n",
       " '\"base\"',\n",
       " '\"bear',\n",
       " '\"beautiful.\"',\n",
       " '\"because',\n",
       " '\"best',\n",
       " '\"better',\n",
       " '\"big',\n",
       " '\"biggest',\n",
       " '\"billboard,\"',\n",
       " '\"biodiesel,\"',\n",
       " '\"black',\n",
       " '\"blade\"',\n",
       " '\"blanket',\n",
       " '\"blind',\n",
       " '\"bling',\n",
       " '\"blog\"',\n",
       " '\"blogged\"',\n",
       " '\"blogosphere\"',\n",
       " '\"blood-thirsty',\n",
       " '\"bluffed,\"',\n",
       " '\"boat',\n",
       " '\"boldly',\n",
       " '\"bomb,\"',\n",
       " '\"boy',\n",
       " '\"brave\"',\n",
       " '\"breaking',\n",
       " '\"breeding',\n",
       " '\"brilliant\"',\n",
       " '\"bring',\n",
       " '\"brochureware,\"',\n",
       " '\"broken',\n",
       " '\"brothers',\n",
       " '\"brutal',\n",
       " '\"brutal\"',\n",
       " '\"bullish\"',\n",
       " '\"burial',\n",
       " '\"bury',\n",
       " '\"business',\n",
       " '\"business-in-a-box\"',\n",
       " '\"but',\n",
       " '\"butterfly',\n",
       " '\"buy',\n",
       " '\"buy,\"',\n",
       " '\"buy-the-rumor,',\n",
       " '\"buying',\n",
       " '\"by',\n",
       " '\"can',\n",
       " '\"cannot',\n",
       " '\"carry',\n",
       " '\"carrying',\n",
       " '\"catastrophe\"',\n",
       " '\"catastrophic',\n",
       " '\"catastrophic\"',\n",
       " '\"cathartic',\n",
       " '\"central',\n",
       " '\"chairman',\n",
       " '\"challenging',\n",
       " '\"chameleon\"',\n",
       " '\"charade\"',\n",
       " '\"cheap',\n",
       " '\"cheeseburger',\n",
       " '\"circus',\n",
       " '\"city',\n",
       " '\"civilized',\n",
       " '\"clarifications\"',\n",
       " '\"clean',\n",
       " '\"clean\"',\n",
       " '\"closing',\n",
       " '\"coalition',\n",
       " '\"coast',\n",
       " '\"cold-blooded',\n",
       " '\"colossal',\n",
       " '\"coming',\n",
       " '\"completely',\n",
       " '\"concept\"',\n",
       " '\"conciliatory',\n",
       " '\"concrete',\n",
       " '\"conehead\"',\n",
       " '\"conference\"',\n",
       " '\"confusion',\n",
       " '\"conjecture,',\n",
       " '\"consensual',\n",
       " '\"conspicuous',\n",
       " '\"conspiracy\"',\n",
       " '\"convinced\"',\n",
       " '\"cookie',\n",
       " '\"cool.\"',\n",
       " '\"cooler\"',\n",
       " '\"cooling-off\"',\n",
       " '\"courtesy',\n",
       " '\"covert',\n",
       " '\"cowards\"',\n",
       " '\"creative',\n",
       " '\"crisis',\n",
       " '\"critical',\n",
       " '\"critical\"',\n",
       " '\"critical,\"',\n",
       " '\"critical.\"',\n",
       " '\"crook,\"',\n",
       " '\"crucible',\n",
       " '\"cruel',\n",
       " '\"crusader',\n",
       " '\"crusaders\"',\n",
       " '\"cupola\",',\n",
       " '\"current',\n",
       " '\"curse\"',\n",
       " '\"cursed\"',\n",
       " '\"customer',\n",
       " '\"cut',\n",
       " '\"cyber-terrorists\"',\n",
       " '\"cybersquatter\"',\n",
       " '\"cycle',\n",
       " '\"dangerous',\n",
       " '\"dangerous\"',\n",
       " '\"dark',\n",
       " '\"day',\n",
       " '\"de',\n",
       " '\"dead',\n",
       " '\"death',\n",
       " '\"debate',\n",
       " '\"decisive',\n",
       " '\"decisive\"',\n",
       " '\"declaration',\n",
       " '\"deepen',\n",
       " '\"deeply',\n",
       " '\"defeat',\n",
       " '\"defend',\n",
       " '\"definitely',\n",
       " '\"definitely\"',\n",
       " '\"delays,\"',\n",
       " '\"deliberate',\n",
       " '\"delivers',\n",
       " '\"depressed',\n",
       " '\"design',\n",
       " '\"design\\\\imperialist.\"',\n",
       " '\"desires\"',\n",
       " '\"devastating\"',\n",
       " '\"dictator\"',\n",
       " '\"didn\\'t',\n",
       " '\"die\"',\n",
       " '\"difficult\"',\n",
       " '\"digital',\n",
       " '\"dinosaur\"',\n",
       " '\"directed',\n",
       " '\"directing',\n",
       " '\"dirty',\n",
       " '\"disaster',\n",
       " '\"disastrous',\n",
       " '\"discredited.\"',\n",
       " '\"disgrace.\"',\n",
       " '\"disgraceful\"',\n",
       " '\"dissident',\n",
       " '\"distorted',\n",
       " '\"distraction',\n",
       " '\"distressed\"',\n",
       " '\"do',\n",
       " '\"doesn\\'t',\n",
       " '\"doing',\n",
       " '\"dolphin-safe\"',\n",
       " '\"domain',\n",
       " '\"domestic\"',\n",
       " '\"donated\"',\n",
       " '\"dramatically',\n",
       " '\"drastic',\n",
       " '\"dropping',\n",
       " '\"dug',\n",
       " '\"dumb\"',\n",
       " '\"duty',\n",
       " '\"dynamic',\n",
       " '\"dysfunctional\"',\n",
       " '\"e-Jamaica\"',\n",
       " '\"e-paper\"',\n",
       " '\"ecological',\n",
       " '\"economic',\n",
       " '\"economy',\n",
       " '\"ecstatic\"',\n",
       " '\"elaborate',\n",
       " '\"election',\n",
       " '\"electronic',\n",
       " '\"element',\n",
       " '\"elk,\"',\n",
       " '\"emotional\\\\nonsense,\"',\n",
       " '\"enchanting\"',\n",
       " '\"encouraged\"',\n",
       " '\"endpoints\"',\n",
       " '\"enemies\".',\n",
       " '\"enemy',\n",
       " '\"energy',\n",
       " '\"enormous',\n",
       " '\"entirely',\n",
       " '\"especially.\"',\n",
       " '\"euro\"',\n",
       " '\"every',\n",
       " '\"everything',\n",
       " '\"evil',\n",
       " '\"exact',\n",
       " '\"exceeding',\n",
       " '\"excellent.\"',\n",
       " '\"exceptional',\n",
       " '\"excessive\"',\n",
       " '\"excuse',\n",
       " '\"exercise',\n",
       " '\"exoplanets\"',\n",
       " '\"expecting\"',\n",
       " '\"extenders\"',\n",
       " '\"extraordinary\"',\n",
       " '\"extreme',\n",
       " '\"extremely',\n",
       " '\"extremism',\n",
       " '\"fabricated',\n",
       " '\"face',\n",
       " '\"factually',\n",
       " '\"failed',\n",
       " '\"failing\"',\n",
       " '\"faith-based,\"',\n",
       " '\"false',\n",
       " '\"far',\n",
       " '\"far-fetched.\"',\n",
       " '\"fast',\n",
       " '\"fast-tracked\"',\n",
       " '\"fear',\n",
       " '\"feel',\n",
       " '\"feels\"',\n",
       " '\"fen-phen\"',\n",
       " '\"fight',\n",
       " '\"fighting',\n",
       " '\"fin\"',\n",
       " '\"final',\n",
       " '\"fine\"',\n",
       " '\"fingerprinting\"',\n",
       " '\"fireplaces\"',\n",
       " '\"firmly',\n",
       " '\"fiscal',\n",
       " '\"fixed',\n",
       " '\"focus',\n",
       " '\"foo\"',\n",
       " '\"forced',\n",
       " '\"foreign',\n",
       " '\"forgotten',\n",
       " '\"fought',\n",
       " '\"four',\n",
       " '\"free',\n",
       " '\"free\"',\n",
       " '\"freshman',\n",
       " '\"friendly\"',\n",
       " '\"friends',\n",
       " '\"friends\"',\n",
       " '\"frivolous',\n",
       " '\"from',\n",
       " '\"front',\n",
       " '\"frustrated\"',\n",
       " '\"fully',\n",
       " '\"fun',\n",
       " '\"fundamental\\\\misunderstanding\"',\n",
       " '\"fundamentally',\n",
       " '\"gaping',\n",
       " '\"gates',\n",
       " '\"gene',\n",
       " '\"generic\"',\n",
       " '\"genetic',\n",
       " '\"genocide\"',\n",
       " '\"genuine',\n",
       " '\"geocaching\"',\n",
       " '\"get',\n",
       " '\"getting',\n",
       " '\"gigantic',\n",
       " '\"give',\n",
       " '\"giveaway\"',\n",
       " '\"global',\n",
       " '\"glory',\n",
       " '\"go',\n",
       " '\"god',\n",
       " '\"gold',\n",
       " '\"golden',\n",
       " '\"good',\n",
       " '\"good\"',\n",
       " '\"google\"',\n",
       " '\"got',\n",
       " '\"government-organized',\n",
       " '\"grave',\n",
       " '\"great',\n",
       " '\"great\"',\n",
       " '\"great,',\n",
       " '\"greenhouse',\n",
       " '\"greenhouse\"',\n",
       " '\"grid',\n",
       " '\"gross',\n",
       " '\"grossly',\n",
       " '\"groundless',\n",
       " '\"groundless\"',\n",
       " '\"growth',\n",
       " '\"guarantees\"',\n",
       " '\"guess',\n",
       " '\"handsome\"',\n",
       " '\"happily',\n",
       " '\"hard',\n",
       " '\"hardly',\n",
       " '\"has',\n",
       " '\"have',\n",
       " '\"haven',\n",
       " '\"healing',\n",
       " '\"health\"',\n",
       " '\"healthy\"',\n",
       " '\"heart',\n",
       " '\"hell-bent\"',\n",
       " '\"help',\n",
       " '\"helped',\n",
       " '\"hiccup\"',\n",
       " '\"hidden',\n",
       " '\"hiding',\n",
       " '\"high',\n",
       " '\"higher',\n",
       " '\"highest',\n",
       " '\"highly',\n",
       " '\"history',\n",
       " '\"hit',\n",
       " '\"hockey',\n",
       " '\"hold\"',\n",
       " '\"hold,\"\\\\saying',\n",
       " '\"holding',\n",
       " '\"home',\n",
       " '\"homegrown\"',\n",
       " '\"honor\"',\n",
       " '\"honour',\n",
       " '\"hopeful\"',\n",
       " '\"hornet,\"',\n",
       " '\"horrendous',\n",
       " '\"horror\"',\n",
       " '\"hostile',\n",
       " '\"hostile\"',\n",
       " '\"hot',\n",
       " '\"how',\n",
       " '\"hum\"',\n",
       " '\"human',\n",
       " '\"hydrogen',\n",
       " '\"hypersonic\"',\n",
       " '\"if',\n",
       " '\"illegal\"',\n",
       " '\"illegal.\"',\n",
       " '\"imbalance\"',\n",
       " '\"immediate',\n",
       " '\"immediately',\n",
       " '\"immediately\"',\n",
       " '\"imminent\"',\n",
       " '\"impactor\"',\n",
       " '\"important\"',\n",
       " '\"impose\"',\n",
       " '\"impossible\"',\n",
       " '\"improper',\n",
       " '\"in',\n",
       " '\"inaccurate\"',\n",
       " '\"inadequate',\n",
       " '\"inadequate\".',\n",
       " '\"inappropriate\"',\n",
       " '\"inappropriately\"',\n",
       " '\"inappropriately\".',\n",
       " '\"incalculable',\n",
       " '\"incapable',\n",
       " '\"incompetence.\"',\n",
       " '\"incorrect\"',\n",
       " '\"increased',\n",
       " '\"increases',\n",
       " '\"indecent\"',\n",
       " '\"induce\"',\n",
       " '\"inefficiencies\"',\n",
       " '\"inexcusable',\n",
       " '\"inflammatory,',\n",
       " '\"information',\n",
       " '\"innocently\"',\n",
       " '\"innovation\"',\n",
       " '\"innovaton',\n",
       " '\"intentional',\n",
       " '\"interfere',\n",
       " '\"intermittent\"',\n",
       " '\"into',\n",
       " '\"intrusion',\n",
       " '\"inventions\"',\n",
       " '\"investors\"',\n",
       " '\"invites',\n",
       " '\"ire',\n",
       " '\"irregular\"',\n",
       " '\"irrelevant\".',\n",
       " '\"irresponsible\"',\n",
       " '\"is',\n",
       " '\"issue\"',\n",
       " '\"it',\n",
       " '\"jBPM.\"',\n",
       " '\"judging',\n",
       " '\"judicial',\n",
       " '\"jungle',\n",
       " '\"just',\n",
       " '\"key',\n",
       " ...]"
      ]
     },
     "execution_count": 60,
     "metadata": {},
     "output_type": "execute_result"
    }
   ],
   "source": [
    "sorted(word_counts.keys())"
   ]
  },
  {
   "cell_type": "code",
   "execution_count": 61,
   "metadata": {},
   "outputs": [
    {
     "data": {
      "text/plain": [
       "84771"
      ]
     },
     "execution_count": 61,
     "metadata": {},
     "output_type": "execute_result"
    }
   ],
   "source": [
    "CountVec = CountVectorizer(token_pattern='\\w+', lowercase=False)\n",
    "CountVec.fit(X_train)\n",
    "len(CountVec.get_feature_names())"
   ]
  },
  {
   "cell_type": "code",
   "execution_count": 62,
   "metadata": {},
   "outputs": [],
   "source": [
    "import re"
   ]
  },
  {
   "cell_type": "code",
   "execution_count": 63,
   "metadata": {},
   "outputs": [],
   "source": [
    "letters_numbers = re.compile(r'[a-zA-Z0-9]+')"
   ]
  },
  {
   "cell_type": "code",
   "execution_count": 64,
   "metadata": {},
   "outputs": [
    {
     "name": "stdout",
     "output_type": "stream",
     "text": [
      "Conway acknowledges slamming Oracle (USATODAY.com) USATODAY.com - A subdued Craig Conway admitted Wednesday that he responded to a hostile takeover bid for the company he led, PeopleSoft (PSFT), with a campaign of \"vilification\" aimed at Oracle (ORCL) and its chief executive, Larry Ellison.\n",
      "\n",
      "Conway acknowledges slamming Oracle USATODAY com USATODAY com A subdued Craig Conway admitted Wednesday that he responded to a hostile takeover bid for the company he led PeopleSoft PSFT with a campaign of vilification aimed at Oracle ORCL and its chief executive Larry Ellison\n"
     ]
    }
   ],
   "source": [
    "sample = X_train[3]\n",
    "print(sample, end=\"\\n\\n\")\n",
    "print(\" \".join(letters_numbers.findall(sample)))"
   ]
  },
  {
   "cell_type": "code",
   "execution_count": 65,
   "metadata": {},
   "outputs": [],
   "source": [
    "X_train_prep = []\n",
    "for desc in X_train:\n",
    "    only_letter_words = letters_numbers.findall(desc)\n",
    "    only_letter_desc = \" \".join(only_letter_words)\n",
    "    only_letter_desc = only_letter_desc.lower()\n",
    "    X_train_prep.append(only_letter_desc)\n",
    "X_train_prep = np.array(X_train_prep)"
   ]
  },
  {
   "cell_type": "code",
   "execution_count": 66,
   "metadata": {},
   "outputs": [
    {
     "data": {
      "text/plain": [
       "62621"
      ]
     },
     "execution_count": 66,
     "metadata": {},
     "output_type": "execute_result"
    }
   ],
   "source": [
    "CountVec = CountVectorizer(token_pattern='\\w+')\n",
    "CountVec.fit(X_train_prep)\n",
    "words = np.array(CountVec.get_feature_names())\n",
    "len(words)"
   ]
  },
  {
   "cell_type": "code",
   "execution_count": 67,
   "metadata": {},
   "outputs": [
    {
     "data": {
      "text/plain": [
       "array(['0', '00', '000', '000016447', '00010563n', '0002', '0004287',\n",
       "       '0005173miami050', '000660', '0009875buffalo040'], dtype='<U38')"
      ]
     },
     "execution_count": 67,
     "metadata": {},
     "output_type": "execute_result"
    }
   ],
   "source": [
    "words[:top_k]"
   ]
  },
  {
   "cell_type": "code",
   "execution_count": 68,
   "metadata": {},
   "outputs": [],
   "source": [
    "word_counts = {}\n",
    "for post in X_train_prep:\n",
    "    for word in post.split():\n",
    "        if word in word_counts:\n",
    "            word_counts[word] += 1\n",
    "        else:\n",
    "            word_counts[word] = 1"
   ]
  },
  {
   "cell_type": "code",
   "execution_count": 69,
   "metadata": {
    "scrolled": true
   },
   "outputs": [
    {
     "data": {
      "text/plain": [
       "[('the', 184705),\n",
       " ('to', 108741),\n",
       " ('a', 102099),\n",
       " ('of', 88674),\n",
       " ('in', 86943),\n",
       " ('and', 62705),\n",
       " ('s', 55846),\n",
       " ('on', 51977),\n",
       " ('for', 45642),\n",
       " ('39', 39910)]"
      ]
     },
     "execution_count": 69,
     "metadata": {},
     "output_type": "execute_result"
    }
   ],
   "source": [
    "sorted(word_counts.items(), key=lambda t: t[1], reverse=True)[:top_k]"
   ]
  },
  {
   "cell_type": "code",
   "execution_count": 70,
   "metadata": {},
   "outputs": [
    {
     "data": {
      "text/plain": [
       "[('2megapixel', 1),\n",
       " ('20d', 1),\n",
       " ('achievers', 1),\n",
       " ('dejuana', 1),\n",
       " ('inhis', 1),\n",
       " ('thestaff', 1),\n",
       " ('thornburgh', 1),\n",
       " ('boccardi', 1),\n",
       " ('mackerel', 1),\n",
       " ('canizares', 1)]"
      ]
     },
     "execution_count": 70,
     "metadata": {},
     "output_type": "execute_result"
    }
   ],
   "source": [
    "sorted(word_counts.items(), key=lambda t: t[1])[:top_k]"
   ]
  },
  {
   "cell_type": "code",
   "execution_count": 71,
   "metadata": {},
   "outputs": [
    {
     "name": "stdout",
     "output_type": "stream",
     "text": [
      "39 39910\n",
      "new 19242\n",
      "said 18212\n",
      "reuters 17478\n",
      "ap 14684\n",
      "gt 11975\n",
      "lt 11930\n",
      "us 11889\n",
      "two 9205\n",
      "first 8838\n"
     ]
    }
   ],
   "source": [
    "cnt = 0\n",
    "for w, c in sorted(word_counts.items(), key=lambda t: t[1], reverse=True):\n",
    "    if w.lower() not in stop_words:\n",
    "        print(w, c)\n",
    "        cnt += 1\n",
    "        if cnt == top_k:\n",
    "            break"
   ]
  },
  {
   "cell_type": "code",
   "execution_count": 72,
   "metadata": {},
   "outputs": [
    {
     "name": "stdout",
     "output_type": "stream",
     "text": [
      "voyager capital becomes the first venture firm to join the open lt b gt lt b gt voyager capital a leading pacific northwest information technology venture firm has announced it is the first venture firm to join the open source development labs osdl an oregon based organization dedicated to accelerating the growth and adoption of\n",
      "\n"
     ]
    }
   ],
   "source": [
    "get_sample_with(X_train_prep, \"gt\", size=1)"
   ]
  },
  {
   "cell_type": "code",
   "execution_count": 73,
   "metadata": {},
   "outputs": [
    {
     "name": "stdout",
     "output_type": "stream",
     "text": [
      "Amid unrest, Iraq president says vote delay would aid  quot;forces of &lt;b&gt;...&lt;/b&gt; BAGHDAD : Iraq #39;s interim President Ghazi al-Yawar, ahead of a meeting with US President George W. Bush, rejected any delay to January 30 polls, saying postponement would hand victory to the  quot;forces of darkness quot;.\n",
      "\n"
     ]
    }
   ],
   "source": [
    "get_sample_with(X_train, \"gt\", with_spaces=False, size=1)"
   ]
  },
  {
   "cell_type": "code",
   "execution_count": null,
   "metadata": {},
   "outputs": [],
   "source": []
  },
  {
   "cell_type": "code",
   "execution_count": 74,
   "metadata": {},
   "outputs": [],
   "source": [
    "from unidecode import unidecode\n",
    "from nltk.stem import PorterStemmer"
   ]
  },
  {
   "cell_type": "code",
   "execution_count": 75,
   "metadata": {
    "scrolled": true
   },
   "outputs": [
    {
     "name": "stdout",
     "output_type": "stream",
     "text": [
      "C'est la premiere fois que deux equipes @\n",
      "vodka\n",
      "Bei Jing \n"
     ]
    }
   ],
   "source": [
    "print(unidecode(\"C'est la première fois que deux équipes @\"))\n",
    "print(unidecode(\"водка\"))\n",
    "print(unidecode(u\"北亰\"))"
   ]
  },
  {
   "cell_type": "code",
   "execution_count": 76,
   "metadata": {},
   "outputs": [],
   "source": [
    "letters_numbers = re.compile(r'[a-zA-Z0-9]+')\n",
    "stemmer = PorterStemmer()\n",
    "\n",
    "def preprocess_text(text):\n",
    "    text = unidecode(text)\n",
    "    text = text.replace(' #39;', \"'\")\n",
    "    text_words = letters_numbers.findall(text)\n",
    "    text_words = [word for word in text_words if (word not in stop_words) or (len(word) > 2)]\n",
    "    text_words = [stemmer.stem(word) for word in text_words]    \n",
    "    text = \" \".join(text_words)\n",
    "    return text"
   ]
  },
  {
   "cell_type": "code",
   "execution_count": 77,
   "metadata": {},
   "outputs": [
    {
     "data": {
      "text/plain": [
       "\"Nikkei Opens Up, Led by Techs, Exporters (Reuters) Reuters - Tokyo's Nikkei average opened 0.59\\\\percent higher on Tuesday as investors sought bargains among\\\\tech firms and exporters, but gains were limited by caution\\\\ahead of a monetary policy meeting in the United States during\\\\the day.\""
      ]
     },
     "execution_count": 77,
     "metadata": {},
     "output_type": "execute_result"
    }
   ],
   "source": [
    "sample_text = np.random.choice(X_train)\n",
    "sample_text"
   ]
  },
  {
   "cell_type": "code",
   "execution_count": 78,
   "metadata": {},
   "outputs": [
    {
     "data": {
      "text/plain": [
       "'nikkei open Up led tech export reuter reuter tokyo nikkei averag open 0 59 percent higher tuesday investor sought bargain among tech firm and export but gain were limit caution ahead monetari polici meet the unit state dure the day'"
      ]
     },
     "execution_count": 78,
     "metadata": {},
     "output_type": "execute_result"
    }
   ],
   "source": [
    "preprocess_text(sample_text)"
   ]
  },
  {
   "cell_type": "code",
   "execution_count": 79,
   "metadata": {},
   "outputs": [],
   "source": [
    "from tqdm import tqdm_notebook"
   ]
  },
  {
   "cell_type": "code",
   "execution_count": 80,
   "metadata": {},
   "outputs": [
    {
     "data": {
      "application/vnd.jupyter.widget-view+json": {
       "model_id": "204cc4a6f9674f2399d85394cda143f3",
       "version_major": 2,
       "version_minor": 0
      },
      "text/plain": [
       "HBox(children=(IntProgress(value=0, max=108000), HTML(value='')))"
      ]
     },
     "metadata": {},
     "output_type": "display_data"
    },
    {
     "name": "stdout",
     "output_type": "stream",
     "text": [
      "\n"
     ]
    }
   ],
   "source": [
    "X_train_prep2 = []\n",
    "for desc in tqdm_notebook(X_train):\n",
    "    X_train_prep2.append(preprocess_text(desc))\n",
    "X_train_prep2 = np.array(X_train_prep2)"
   ]
  },
  {
   "cell_type": "code",
   "execution_count": 81,
   "metadata": {},
   "outputs": [
    {
     "data": {
      "application/vnd.jupyter.widget-view+json": {
       "model_id": "b05c05fb6f2b41aa8b3b2c14b81d999f",
       "version_major": 2,
       "version_minor": 0
      },
      "text/plain": [
       "HBox(children=(IntProgress(value=0, max=12000), HTML(value='')))"
      ]
     },
     "metadata": {},
     "output_type": "display_data"
    },
    {
     "name": "stdout",
     "output_type": "stream",
     "text": [
      "\n"
     ]
    }
   ],
   "source": [
    "X_val_prep2 = []\n",
    "for desc in tqdm_notebook(X_val):\n",
    "    X_val_prep2.append(preprocess_text(desc))\n",
    "X_val_prep2 = np.array(X_val_prep2)"
   ]
  },
  {
   "cell_type": "code",
   "execution_count": 82,
   "metadata": {},
   "outputs": [
    {
     "name": "stdout",
     "output_type": "stream",
     "text": [
      "train accuracy 0.914\n",
      "val accuracy 0.904\n",
      "\n"
     ]
    }
   ],
   "source": [
    "nb = Pipeline([('tfidf', TfidfVectorizer(lowercase=False, token_pattern='\\w+')),\n",
    "               ('clf', MultinomialNB()),])\n",
    "nb.fit(X_train_prep2, y_train)\n",
    "\n",
    "y_pred = nb.predict(X_val_prep2)\n",
    "val_score = accuracy_score(y_pred, y_val)\n",
    "\n",
    "print('train accuracy {0:,.3f}'.format(accuracy_score(nb.predict(X_train_prep2), y_train)))\n",
    "print('val accuracy {0:,.3f}\\n'.format(val_score))\n",
    "\n",
    "if val_score > best_naive_bayes_score:\n",
    "    print(\"text preprocessing improved result for naive bayes\")\n",
    "    print(\"don't forget to preprocess test data as well\")\n",
    "    best_naive_bayes_score = val_score\n",
    "    best_naive_bayes_clf = nb"
   ]
  },
  {
   "cell_type": "code",
   "execution_count": 83,
   "metadata": {},
   "outputs": [],
   "source": [
    "import time"
   ]
  },
  {
   "cell_type": "code",
   "execution_count": 84,
   "metadata": {},
   "outputs": [
    {
     "name": "stdout",
     "output_type": "stream",
     "text": [
      "train accuracy 0.940\n",
      "val accuracy 0.913\n",
      "\n",
      "text preprocessing improved result for naive bayes\n",
      "don't forget to preprocess test data as well\n",
      "\n",
      "took 16.0367910861969 seconds\n"
     ]
    }
   ],
   "source": [
    "start = time.time()\n",
    "nb = Pipeline([('tfidf', TfidfVectorizer(lowercase=False, token_pattern='\\w+', ngram_range=(1, 2))),\n",
    "               ('clf', MultinomialNB()),\n",
    "              ])\n",
    "nb.fit(X_train_prep2, y_train)\n",
    "\n",
    "y_pred = nb.predict(X_val_prep2)\n",
    "val_score = accuracy_score(y_pred, y_val)\n",
    "\n",
    "print('train accuracy {0:,.3f}'.format(accuracy_score(nb.predict(X_train_prep2), y_train)))\n",
    "print('val accuracy {0:,.3f}\\n'.format(val_score))\n",
    "\n",
    "if val_score > best_naive_bayes_score:\n",
    "    print(\"text preprocessing improved result for naive bayes\")\n",
    "    print(\"don't forget to preprocess test data as well\")\n",
    "    best_naive_bayes_score = val_score\n",
    "    best_naive_bayes_clf = nb\n",
    "print(\"\\ntook {} seconds\".format(time.time() - start))"
   ]
  },
  {
   "cell_type": "code",
   "execution_count": null,
   "metadata": {},
   "outputs": [],
   "source": []
  },
  {
   "cell_type": "code",
   "execution_count": 85,
   "metadata": {},
   "outputs": [
    {
     "name": "stdout",
     "output_type": "stream",
     "text": [
      "train accuracy 0.933\n",
      "val accuracy 0.916\n",
      "\n"
     ]
    }
   ],
   "source": [
    "logreg = Pipeline([('tfidf', TfidfVectorizer(lowercase=False, token_pattern='\\w+')),\n",
    "                   ('clf', LogisticRegression(n_jobs=-2, solver=\"lbfgs\", random_state=42)),])\n",
    "logreg.fit(X_train_prep2, y_train)\n",
    "\n",
    "y_pred = logreg.predict(X_val_prep2)\n",
    "val_score = accuracy_score(y_pred, y_val)\n",
    "\n",
    "print('train accuracy {0:,.3f}'.format(accuracy_score(logreg.predict(X_train_prep2), y_train)))\n",
    "print('val accuracy {0:,.3f}\\n'.format(val_score))\n",
    "\n",
    "if val_score > best_log_reg_score:\n",
    "    print(\"text preprocessing improved result for logistic regression\")\n",
    "    print(\"don't forget to preprocess test data as well\")\n",
    "    best_log_reg_score = val_score\n",
    "    best_log_reg_clf = logreg"
   ]
  },
  {
   "cell_type": "code",
   "execution_count": 86,
   "metadata": {},
   "outputs": [
    {
     "name": "stdout",
     "output_type": "stream",
     "text": [
      "train accuracy 0.947\n",
      "val accuracy 0.915\n",
      "\n",
      "\n",
      "took 73.08888149261475 seconds\n"
     ]
    }
   ],
   "source": [
    "start = time.time()\n",
    "logreg = Pipeline([('tfidf', TfidfVectorizer(lowercase=False, token_pattern='\\w+', ngram_range=(1, 2))),\n",
    "                   ('clf', LogisticRegression(n_jobs=-2, solver=\"lbfgs\", random_state=42)),])\n",
    "logreg.fit(X_train_prep2, y_train)\n",
    "\n",
    "y_pred = logreg.predict(X_val_prep2)\n",
    "val_score = accuracy_score(y_pred, y_val)\n",
    "\n",
    "print('train accuracy {0:,.3f}'.format(accuracy_score(logreg.predict(X_train_prep2), y_train)))\n",
    "print('val accuracy {0:,.3f}\\n'.format(val_score))\n",
    "\n",
    "if val_score > best_log_reg_score:\n",
    "    print(\"text preprocessing improved result for logistic regression\")\n",
    "    print(\"don't forget to preprocess test data as well\")\n",
    "    best_log_reg_score = val_score\n",
    "    best_log_reg_clf = logreg\n",
    "print(\"\\ntook {} seconds\".format(time.time() - start))"
   ]
  },
  {
   "cell_type": "code",
   "execution_count": null,
   "metadata": {},
   "outputs": [],
   "source": []
  },
  {
   "cell_type": "code",
   "execution_count": 87,
   "metadata": {},
   "outputs": [
    {
     "name": "stdout",
     "output_type": "stream",
     "text": [
      "train accuracy 0.951\n",
      "val accuracy 0.915\n"
     ]
    }
   ],
   "source": [
    "ft_model = train_fasttext(X_train_prep2, y_train, wordNgrams=1)\n",
    "val_preds = [i[0].split('_')[-1] for i in ft_model.predict(list(X_val_prep2))[0]]\n",
    "val_score = accuracy_score(val_preds, y_val)\n",
    "print('val accuracy {0:,.3f}'.format(val_score))\n",
    "\n",
    "if val_score > best_fasttext_score:    \n",
    "    print(\"text preprocessing improved result for fasttext\")\n",
    "    print(\"don't forget to preprocess test data as well\")\n",
    "    best_fasttext_score = val_score\n",
    "    best_fasttext_clf = ft_model"
   ]
  },
  {
   "cell_type": "code",
   "execution_count": 88,
   "metadata": {},
   "outputs": [
    {
     "name": "stdout",
     "output_type": "stream",
     "text": [
      "train accuracy 0.998\n",
      "val accuracy 0.922\n",
      "text preprocessing improved result for fasttext\n",
      "don't forget to preprocess test data as well\n",
      "\n",
      "took 7.5963826179504395 seconds\n"
     ]
    }
   ],
   "source": [
    "start = time.time()\n",
    "ft_model = train_fasttext(X_train_prep2, y_train, wordNgrams=2)\n",
    "val_preds = [i[0].split('_')[-1] for i in ft_model.predict(list(X_val_prep2))[0]]\n",
    "val_score = accuracy_score(val_preds, y_val)\n",
    "print('val accuracy {0:,.3f}'.format(val_score))\n",
    "\n",
    "if val_score > best_fasttext_score:    \n",
    "    print(\"text preprocessing improved result for fasttext\")\n",
    "    print(\"don't forget to preprocess test data as well\")\n",
    "    best_fasttext_score = val_score\n",
    "    best_fasttext_clf = ft_model\n",
    "print(\"\\ntook {} seconds\".format(time.time() - start))"
   ]
  },
  {
   "cell_type": "code",
   "execution_count": null,
   "metadata": {},
   "outputs": [],
   "source": []
  },
  {
   "cell_type": "markdown",
   "metadata": {},
   "source": [
    "# test data results"
   ]
  },
  {
   "cell_type": "code",
   "execution_count": 89,
   "metadata": {},
   "outputs": [],
   "source": [
    "from sklearn.metrics import confusion_matrix\n",
    "import seaborn as sns\n",
    "\n",
    "def print_confusion_matrix(confusion_matrix, class_names, figsize = (8,6), fontsize=10):\n",
    "    df_cm = pd.DataFrame(\n",
    "        confusion_matrix, index=class_names, columns=class_names, \n",
    "    )\n",
    "    fig = plt.figure(figsize=figsize)\n",
    "    try:\n",
    "        heatmap = sns.heatmap(df_cm, annot=True, fmt=\"d\")\n",
    "    except ValueError:\n",
    "        raise ValueError(\"Confusion matrix values must be integers.\")\n",
    "    heatmap.yaxis.set_ticklabels(heatmap.yaxis.get_ticklabels(), rotation=0, ha='right', fontsize=fontsize)\n",
    "    heatmap.xaxis.set_ticklabels(heatmap.xaxis.get_ticklabels(), rotation=45, ha='right', fontsize=fontsize)\n",
    "    plt.ylabel('True label')\n",
    "    plt.xlabel('Predicted label')"
   ]
  },
  {
   "cell_type": "code",
   "execution_count": 90,
   "metadata": {},
   "outputs": [],
   "source": [
    "test_df[\"POST_PREP\"] = test_df[\"POST\"].map(preprocess_text)"
   ]
  },
  {
   "cell_type": "markdown",
   "metadata": {},
   "source": [
    "# Naive Bayes"
   ]
  },
  {
   "cell_type": "code",
   "execution_count": 91,
   "metadata": {},
   "outputs": [
    {
     "data": {
      "text/plain": [
       "0.9129166666666667"
      ]
     },
     "execution_count": 91,
     "metadata": {},
     "output_type": "execute_result"
    }
   ],
   "source": [
    "best_naive_bayes_score"
   ]
  },
  {
   "cell_type": "code",
   "execution_count": 92,
   "metadata": {},
   "outputs": [
    {
     "name": "stdout",
     "output_type": "stream",
     "text": [
      "test accuracy 0.905\n",
      "\n"
     ]
    },
    {
     "data": {
      "image/png": "[encoded data removed]",
      "text/plain": [
       "<Figure size 576x432 with 2 Axes>"
      ]
     },
     "metadata": {
      "needs_background": "light"
     },
     "output_type": "display_data"
    }
   ],
   "source": [
    "test_pred = best_naive_bayes_clf.predict(test_df[\"POST_PREP\"])\n",
    "print('test accuracy {0:,.3f}\\n'.format(accuracy_score(test_pred, test_df[\"LABEL\"])))\n",
    "print_confusion_matrix(confusion_matrix(test_df[\"LABEL\"], test_pred), class_names=classes)"
   ]
  },
  {
   "cell_type": "code",
   "execution_count": null,
   "metadata": {},
   "outputs": [],
   "source": []
  },
  {
   "cell_type": "markdown",
   "metadata": {},
   "source": [
    "# Logistic Regression"
   ]
  },
  {
   "cell_type": "code",
   "execution_count": 93,
   "metadata": {},
   "outputs": [
    {
     "data": {
      "text/plain": [
       "0.9229166666666667"
      ]
     },
     "execution_count": 93,
     "metadata": {},
     "output_type": "execute_result"
    }
   ],
   "source": [
    "best_log_reg_score"
   ]
  },
  {
   "cell_type": "code",
   "execution_count": 94,
   "metadata": {},
   "outputs": [
    {
     "name": "stdout",
     "output_type": "stream",
     "text": [
      "test accuracy 0.926\n",
      "\n"
     ]
    },
    {
     "data": {
      "image/png": "[encoded data removed]",
      "text/plain": [
       "<Figure size 576x432 with 2 Axes>"
      ]
     },
     "metadata": {
      "needs_background": "light"
     },
     "output_type": "display_data"
    }
   ],
   "source": [
    "test_pred = best_log_reg_clf.predict(test_df[\"POST\"])\n",
    "print('test accuracy {0:,.3f}\\n'.format(accuracy_score(test_pred, test_df[\"LABEL\"])))\n",
    "print_confusion_matrix(confusion_matrix(test_df[\"LABEL\"], test_pred), class_names=classes)"
   ]
  },
  {
   "cell_type": "code",
   "execution_count": null,
   "metadata": {},
   "outputs": [],
   "source": []
  },
  {
   "cell_type": "markdown",
   "metadata": {},
   "source": [
    "# fasttext"
   ]
  },
  {
   "cell_type": "code",
   "execution_count": 95,
   "metadata": {},
   "outputs": [
    {
     "data": {
      "text/plain": [
       "0.9219166666666667"
      ]
     },
     "execution_count": 95,
     "metadata": {},
     "output_type": "execute_result"
    }
   ],
   "source": [
    "best_fasttext_score"
   ]
  },
  {
   "cell_type": "code",
   "execution_count": 97,
   "metadata": {},
   "outputs": [
    {
     "name": "stdout",
     "output_type": "stream",
     "text": [
      "test accuracy 0.921\n",
      "\n"
     ]
    },
    {
     "data": {
      "image/png": "[encoded data removed]",
      "text/plain": [
       "<Figure size 576x432 with 2 Axes>"
      ]
     },
     "metadata": {
      "needs_background": "light"
     },
     "output_type": "display_data"
    }
   ],
   "source": [
    "test_pred, _ = best_fasttext_clf.predict(list(test_df[\"POST_PREP\"]))\n",
    "test_pred = [i[0].split(\"_\")[-1] for i in test_pred]\n",
    "print('test accuracy {0:,.3f}\\n'.format(accuracy_score(test_pred, test_df[\"LABEL\"])))\n",
    "print_confusion_matrix(confusion_matrix(test_df[\"LABEL\"], test_pred), class_names=classes)"
   ]
  },
  {
   "cell_type": "code",
   "execution_count": null,
   "metadata": {},
   "outputs": [],
   "source": []
  },
  {
   "cell_type": "code",
   "execution_count": null,
   "metadata": {},
   "outputs": [],
   "source": []
  }
 ],
 "metadata": {
  "kernelspec": {
   "display_name": "Python 3",
   "language": "python",
   "name": "python3"
  },
  "language_info": {
   "codemirror_mode": {
    "name": "ipython",
    "version": 3
   },
   "file_extension": ".py",
   "mimetype": "text/x-python",
   "name": "python",
   "nbconvert_exporter": "python",
   "pygments_lexer": "ipython3",
   "version": "3.6.7"
  }
 },
 "nbformat": 4,
 "nbformat_minor": 2
}
