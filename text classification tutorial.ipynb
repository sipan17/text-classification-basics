{
 "cells": [
  {
   "cell_type": "markdown",
   "metadata": {},
   "source": [
    "# Text Classification with Naive Bayes, Logistic Regression and Fasttext"
   ]
  },
  {
   "cell_type": "code",
   "execution_count": 1,
   "metadata": {},
   "outputs": [],
   "source": [
    "import warnings \n",
    "warnings.filterwarnings(\"ignore\")\n",
    "import pandas as pd\n",
    "import numpy as np\n",
    "np.random.seed(17)\n",
    "import matplotlib.pyplot as plt"
   ]
  },
  {
   "cell_type": "code",
   "execution_count": 2,
   "metadata": {},
   "outputs": [
    {
     "data": {
      "text/html": [
       "<div>\n",
       "<style scoped>\n",
       "    .dataframe tbody tr th:only-of-type {\n",
       "        vertical-align: middle;\n",
       "    }\n",
       "\n",
       "    .dataframe tbody tr th {\n",
       "        vertical-align: top;\n",
       "    }\n",
       "\n",
       "    .dataframe thead th {\n",
       "        text-align: right;\n",
       "    }\n",
       "</style>\n",
       "<table border=\"1\" class=\"dataframe\">\n",
       "  <thead>\n",
       "    <tr style=\"text-align: right;\">\n",
       "      <th></th>\n",
       "      <th>CLASS</th>\n",
       "      <th>TITLE</th>\n",
       "      <th>DESCRIPTION</th>\n",
       "    </tr>\n",
       "  </thead>\n",
       "  <tbody>\n",
       "    <tr>\n",
       "      <th>0</th>\n",
       "      <td>3</td>\n",
       "      <td>Wall St. Bears Claw Back Into the Black (Reuters)</td>\n",
       "      <td>Reuters - Short-sellers, Wall Street's dwindli...</td>\n",
       "    </tr>\n",
       "    <tr>\n",
       "      <th>1</th>\n",
       "      <td>3</td>\n",
       "      <td>Carlyle Looks Toward Commercial Aerospace (Reu...</td>\n",
       "      <td>Reuters - Private investment firm Carlyle Grou...</td>\n",
       "    </tr>\n",
       "    <tr>\n",
       "      <th>2</th>\n",
       "      <td>3</td>\n",
       "      <td>Oil and Economy Cloud Stocks' Outlook (Reuters)</td>\n",
       "      <td>Reuters - Soaring crude prices plus worries\\ab...</td>\n",
       "    </tr>\n",
       "    <tr>\n",
       "      <th>3</th>\n",
       "      <td>3</td>\n",
       "      <td>Iraq Halts Oil Exports from Main Southern Pipe...</td>\n",
       "      <td>Reuters - Authorities have halted oil export\\f...</td>\n",
       "    </tr>\n",
       "    <tr>\n",
       "      <th>4</th>\n",
       "      <td>3</td>\n",
       "      <td>Oil prices soar to all-time record, posing new...</td>\n",
       "      <td>AFP - Tearaway world oil prices, toppling reco...</td>\n",
       "    </tr>\n",
       "  </tbody>\n",
       "</table>\n",
       "</div>"
      ],
      "text/plain": [
       "   CLASS                                              TITLE  \\\n",
       "0      3  Wall St. Bears Claw Back Into the Black (Reuters)   \n",
       "1      3  Carlyle Looks Toward Commercial Aerospace (Reu...   \n",
       "2      3    Oil and Economy Cloud Stocks' Outlook (Reuters)   \n",
       "3      3  Iraq Halts Oil Exports from Main Southern Pipe...   \n",
       "4      3  Oil prices soar to all-time record, posing new...   \n",
       "\n",
       "                                         DESCRIPTION  \n",
       "0  Reuters - Short-sellers, Wall Street's dwindli...  \n",
       "1  Reuters - Private investment firm Carlyle Grou...  \n",
       "2  Reuters - Soaring crude prices plus worries\\ab...  \n",
       "3  Reuters - Authorities have halted oil export\\f...  \n",
       "4  AFP - Tearaway world oil prices, toppling reco...  "
      ]
     },
     "execution_count": 2,
     "metadata": {},
     "output_type": "execute_result"
    }
   ],
   "source": [
    "classes = np.loadtxt('./data/classes.txt', dtype=str)\n",
    "class_dict = {i+1:x for i, x in enumerate(classes)}\n",
    "columns = [\"CLASS\", \"TITLE\", \"DESCRIPTION\"]\n",
    "ag_new_train = pd.read_csv('./data/train.csv', header=None)\n",
    "ag_new_train.columns = columns\n",
    "ag_new_train.head()"
   ]
  },
  {
   "cell_type": "code",
   "execution_count": 3,
   "metadata": {},
   "outputs": [],
   "source": [
    "df = pd.DataFrame(data=ag_new_train[\"TITLE\"] + \" \" + ag_new_train[\"DESCRIPTION\"], columns=[\"POST\"])\n",
    "df[\"LABEL\"] = ag_new_train[\"CLASS\"].map(class_dict)"
   ]
  },
  {
   "cell_type": "code",
   "execution_count": 4,
   "metadata": {},
   "outputs": [
    {
     "data": {
      "text/html": [
       "<div>\n",
       "<style scoped>\n",
       "    .dataframe tbody tr th:only-of-type {\n",
       "        vertical-align: middle;\n",
       "    }\n",
       "\n",
       "    .dataframe tbody tr th {\n",
       "        vertical-align: top;\n",
       "    }\n",
       "\n",
       "    .dataframe thead th {\n",
       "        text-align: right;\n",
       "    }\n",
       "</style>\n",
       "<table border=\"1\" class=\"dataframe\">\n",
       "  <thead>\n",
       "    <tr style=\"text-align: right;\">\n",
       "      <th></th>\n",
       "      <th>POST</th>\n",
       "      <th>LABEL</th>\n",
       "    </tr>\n",
       "  </thead>\n",
       "  <tbody>\n",
       "    <tr>\n",
       "      <th>0</th>\n",
       "      <td>Wall St. Bears Claw Back Into the Black (Reute...</td>\n",
       "      <td>Business</td>\n",
       "    </tr>\n",
       "    <tr>\n",
       "      <th>1</th>\n",
       "      <td>Carlyle Looks Toward Commercial Aerospace (Reu...</td>\n",
       "      <td>Business</td>\n",
       "    </tr>\n",
       "    <tr>\n",
       "      <th>2</th>\n",
       "      <td>Oil and Economy Cloud Stocks' Outlook (Reuters...</td>\n",
       "      <td>Business</td>\n",
       "    </tr>\n",
       "    <tr>\n",
       "      <th>3</th>\n",
       "      <td>Iraq Halts Oil Exports from Main Southern Pipe...</td>\n",
       "      <td>Business</td>\n",
       "    </tr>\n",
       "    <tr>\n",
       "      <th>4</th>\n",
       "      <td>Oil prices soar to all-time record, posing new...</td>\n",
       "      <td>Business</td>\n",
       "    </tr>\n",
       "  </tbody>\n",
       "</table>\n",
       "</div>"
      ],
      "text/plain": [
       "                                                POST     LABEL\n",
       "0  Wall St. Bears Claw Back Into the Black (Reute...  Business\n",
       "1  Carlyle Looks Toward Commercial Aerospace (Reu...  Business\n",
       "2  Oil and Economy Cloud Stocks' Outlook (Reuters...  Business\n",
       "3  Iraq Halts Oil Exports from Main Southern Pipe...  Business\n",
       "4  Oil prices soar to all-time record, posing new...  Business"
      ]
     },
     "execution_count": 4,
     "metadata": {},
     "output_type": "execute_result"
    }
   ],
   "source": [
    "df.head()"
   ]
  },
  {
   "cell_type": "code",
   "execution_count": 5,
   "metadata": {},
   "outputs": [
    {
     "data": {
      "text/plain": [
       "120000"
      ]
     },
     "execution_count": 5,
     "metadata": {},
     "output_type": "execute_result"
    }
   ],
   "source": [
    "len(df)"
   ]
  },
  {
   "cell_type": "code",
   "execution_count": 6,
   "metadata": {},
   "outputs": [
    {
     "name": "stdout",
     "output_type": "stream",
     "text": [
      "In a Down Market, Head Toward Value Funds There is little cause for celebration in the stock market these days, but investors in value-focused mutual funds have reason to feel a bit smug -- if only because they've lost less than the folks who stuck with growth.\n",
      "Label: Business\n"
     ]
    }
   ],
   "source": [
    "def print_plot(index):\n",
    "    example = df[df.index == index][['POST', 'LABEL']].values[0]\n",
    "    if len(example) > 0:\n",
    "        print(example[0])\n",
    "        print('Label:', example[1])\n",
    "print_plot(17)"
   ]
  },
  {
   "cell_type": "code",
   "execution_count": 7,
   "metadata": {},
   "outputs": [
    {
     "data": {
      "image/png": "[encoded data removed]",
      "text/plain": [
       "<Figure size 720x288 with 1 Axes>"
      ]
     },
     "metadata": {},
     "output_type": "display_data"
    }
   ],
   "source": [
    "plt.figure(figsize=(10,4))\n",
    "df[\"LABEL\"].value_counts().plot(kind='bar');"
   ]
  },
  {
   "cell_type": "code",
   "execution_count": 8,
   "metadata": {},
   "outputs": [
    {
     "data": {
      "text/html": [
       "<div>\n",
       "<style scoped>\n",
       "    .dataframe tbody tr th:only-of-type {\n",
       "        vertical-align: middle;\n",
       "    }\n",
       "\n",
       "    .dataframe tbody tr th {\n",
       "        vertical-align: top;\n",
       "    }\n",
       "\n",
       "    .dataframe thead th {\n",
       "        text-align: right;\n",
       "    }\n",
       "</style>\n",
       "<table border=\"1\" class=\"dataframe\">\n",
       "  <thead>\n",
       "    <tr style=\"text-align: right;\">\n",
       "      <th></th>\n",
       "      <th>CLASS</th>\n",
       "      <th>TITLE</th>\n",
       "      <th>DESCRIPTION</th>\n",
       "    </tr>\n",
       "  </thead>\n",
       "  <tbody>\n",
       "    <tr>\n",
       "      <th>0</th>\n",
       "      <td>3</td>\n",
       "      <td>Fears for T N pension after talks</td>\n",
       "      <td>Unions representing workers at Turner   Newall...</td>\n",
       "    </tr>\n",
       "    <tr>\n",
       "      <th>1</th>\n",
       "      <td>4</td>\n",
       "      <td>The Race is On: Second Private Team Sets Launc...</td>\n",
       "      <td>SPACE.com - TORONTO, Canada -- A second\\team o...</td>\n",
       "    </tr>\n",
       "    <tr>\n",
       "      <th>2</th>\n",
       "      <td>4</td>\n",
       "      <td>Ky. Company Wins Grant to Study Peptides (AP)</td>\n",
       "      <td>AP - A company founded by a chemistry research...</td>\n",
       "    </tr>\n",
       "    <tr>\n",
       "      <th>3</th>\n",
       "      <td>4</td>\n",
       "      <td>Prediction Unit Helps Forecast Wildfires (AP)</td>\n",
       "      <td>AP - It's barely dawn when Mike Fitzpatrick st...</td>\n",
       "    </tr>\n",
       "    <tr>\n",
       "      <th>4</th>\n",
       "      <td>4</td>\n",
       "      <td>Calif. Aims to Limit Farm-Related Smog (AP)</td>\n",
       "      <td>AP - Southern California's smog-fighting agenc...</td>\n",
       "    </tr>\n",
       "  </tbody>\n",
       "</table>\n",
       "</div>"
      ],
      "text/plain": [
       "   CLASS                                              TITLE  \\\n",
       "0      3                  Fears for T N pension after talks   \n",
       "1      4  The Race is On: Second Private Team Sets Launc...   \n",
       "2      4      Ky. Company Wins Grant to Study Peptides (AP)   \n",
       "3      4      Prediction Unit Helps Forecast Wildfires (AP)   \n",
       "4      4        Calif. Aims to Limit Farm-Related Smog (AP)   \n",
       "\n",
       "                                         DESCRIPTION  \n",
       "0  Unions representing workers at Turner   Newall...  \n",
       "1  SPACE.com - TORONTO, Canada -- A second\\team o...  \n",
       "2  AP - A company founded by a chemistry research...  \n",
       "3  AP - It's barely dawn when Mike Fitzpatrick st...  \n",
       "4  AP - Southern California's smog-fighting agenc...  "
      ]
     },
     "execution_count": 8,
     "metadata": {},
     "output_type": "execute_result"
    }
   ],
   "source": [
    "ag_new_test = pd.read_csv('./data/test.csv', header=None)\n",
    "ag_new_test.columns = columns\n",
    "ag_new_test.head()"
   ]
  },
  {
   "cell_type": "code",
   "execution_count": 9,
   "metadata": {},
   "outputs": [],
   "source": [
    "test_df = pd.DataFrame(data=ag_new_test[\"TITLE\"] + \" \" + ag_new_test[\"DESCRIPTION\"], columns=[\"POST\"])\n",
    "test_df[\"LABEL\"] = ag_new_test[\"CLASS\"].map(class_dict)"
   ]
  },
  {
   "cell_type": "code",
   "execution_count": 10,
   "metadata": {},
   "outputs": [
    {
     "data": {
      "text/html": [
       "<div>\n",
       "<style scoped>\n",
       "    .dataframe tbody tr th:only-of-type {\n",
       "        vertical-align: middle;\n",
       "    }\n",
       "\n",
       "    .dataframe tbody tr th {\n",
       "        vertical-align: top;\n",
       "    }\n",
       "\n",
       "    .dataframe thead th {\n",
       "        text-align: right;\n",
       "    }\n",
       "</style>\n",
       "<table border=\"1\" class=\"dataframe\">\n",
       "  <thead>\n",
       "    <tr style=\"text-align: right;\">\n",
       "      <th></th>\n",
       "      <th>POST</th>\n",
       "      <th>LABEL</th>\n",
       "    </tr>\n",
       "  </thead>\n",
       "  <tbody>\n",
       "    <tr>\n",
       "      <th>0</th>\n",
       "      <td>Fears for T N pension after talks Unions repre...</td>\n",
       "      <td>Business</td>\n",
       "    </tr>\n",
       "    <tr>\n",
       "      <th>1</th>\n",
       "      <td>The Race is On: Second Private Team Sets Launc...</td>\n",
       "      <td>Sci/Tech</td>\n",
       "    </tr>\n",
       "    <tr>\n",
       "      <th>2</th>\n",
       "      <td>Ky. Company Wins Grant to Study Peptides (AP) ...</td>\n",
       "      <td>Sci/Tech</td>\n",
       "    </tr>\n",
       "    <tr>\n",
       "      <th>3</th>\n",
       "      <td>Prediction Unit Helps Forecast Wildfires (AP) ...</td>\n",
       "      <td>Sci/Tech</td>\n",
       "    </tr>\n",
       "    <tr>\n",
       "      <th>4</th>\n",
       "      <td>Calif. Aims to Limit Farm-Related Smog (AP) AP...</td>\n",
       "      <td>Sci/Tech</td>\n",
       "    </tr>\n",
       "  </tbody>\n",
       "</table>\n",
       "</div>"
      ],
      "text/plain": [
       "                                                POST     LABEL\n",
       "0  Fears for T N pension after talks Unions repre...  Business\n",
       "1  The Race is On: Second Private Team Sets Launc...  Sci/Tech\n",
       "2  Ky. Company Wins Grant to Study Peptides (AP) ...  Sci/Tech\n",
       "3  Prediction Unit Helps Forecast Wildfires (AP) ...  Sci/Tech\n",
       "4  Calif. Aims to Limit Farm-Related Smog (AP) AP...  Sci/Tech"
      ]
     },
     "execution_count": 10,
     "metadata": {},
     "output_type": "execute_result"
    }
   ],
   "source": [
    "test_df.head()"
   ]
  },
  {
   "cell_type": "code",
   "execution_count": 11,
   "metadata": {},
   "outputs": [
    {
     "data": {
      "text/plain": [
       "7600"
      ]
     },
     "execution_count": 11,
     "metadata": {},
     "output_type": "execute_result"
    }
   ],
   "source": [
    "len(test_df)"
   ]
  },
  {
   "cell_type": "code",
   "execution_count": 12,
   "metadata": {},
   "outputs": [
    {
     "data": {
      "image/png": "[encoded data removed]",
      "text/plain": [
       "<Figure size 720x288 with 1 Axes>"
      ]
     },
     "metadata": {},
     "output_type": "display_data"
    }
   ],
   "source": [
    "plt.figure(figsize=(10,4))\n",
    "test_df[\"LABEL\"].value_counts().plot(kind='bar');"
   ]
  },
  {
   "cell_type": "code",
   "execution_count": 13,
   "metadata": {},
   "outputs": [
    {
     "data": {
      "text/plain": [
       "0"
      ]
     },
     "execution_count": 13,
     "metadata": {},
     "output_type": "execute_result"
    }
   ],
   "source": [
    "pd.isnull(df['POST']).sum()"
   ]
  },
  {
   "cell_type": "code",
   "execution_count": 14,
   "metadata": {},
   "outputs": [],
   "source": [
    "df[\"POST_LENGTH\"] = df[\"POST\"].map(len)\n",
    "df[\"POST_NUM_WORDS\"] = df[\"POST\"].map(lambda x: len(x.split()))"
   ]
  },
  {
   "cell_type": "code",
   "execution_count": 15,
   "metadata": {},
   "outputs": [
    {
     "data": {
      "text/html": [
       "<div>\n",
       "<style scoped>\n",
       "    .dataframe tbody tr th:only-of-type {\n",
       "        vertical-align: middle;\n",
       "    }\n",
       "\n",
       "    .dataframe tbody tr th {\n",
       "        vertical-align: top;\n",
       "    }\n",
       "\n",
       "    .dataframe thead th {\n",
       "        text-align: right;\n",
       "    }\n",
       "</style>\n",
       "<table border=\"1\" class=\"dataframe\">\n",
       "  <thead>\n",
       "    <tr style=\"text-align: right;\">\n",
       "      <th></th>\n",
       "      <th>POST</th>\n",
       "      <th>LABEL</th>\n",
       "      <th>POST_LENGTH</th>\n",
       "      <th>POST_NUM_WORDS</th>\n",
       "    </tr>\n",
       "  </thead>\n",
       "  <tbody>\n",
       "    <tr>\n",
       "      <th>0</th>\n",
       "      <td>Wall St. Bears Claw Back Into the Black (Reute...</td>\n",
       "      <td>Business</td>\n",
       "      <td>144</td>\n",
       "      <td>21</td>\n",
       "    </tr>\n",
       "    <tr>\n",
       "      <th>1</th>\n",
       "      <td>Carlyle Looks Toward Commercial Aerospace (Reu...</td>\n",
       "      <td>Business</td>\n",
       "      <td>266</td>\n",
       "      <td>36</td>\n",
       "    </tr>\n",
       "    <tr>\n",
       "      <th>2</th>\n",
       "      <td>Oil and Economy Cloud Stocks' Outlook (Reuters...</td>\n",
       "      <td>Business</td>\n",
       "      <td>232</td>\n",
       "      <td>36</td>\n",
       "    </tr>\n",
       "    <tr>\n",
       "      <th>3</th>\n",
       "      <td>Iraq Halts Oil Exports from Main Southern Pipe...</td>\n",
       "      <td>Business</td>\n",
       "      <td>256</td>\n",
       "      <td>36</td>\n",
       "    </tr>\n",
       "    <tr>\n",
       "      <th>4</th>\n",
       "      <td>Oil prices soar to all-time record, posing new...</td>\n",
       "      <td>Business</td>\n",
       "      <td>234</td>\n",
       "      <td>37</td>\n",
       "    </tr>\n",
       "  </tbody>\n",
       "</table>\n",
       "</div>"
      ],
      "text/plain": [
       "                                                POST     LABEL  POST_LENGTH  \\\n",
       "0  Wall St. Bears Claw Back Into the Black (Reute...  Business          144   \n",
       "1  Carlyle Looks Toward Commercial Aerospace (Reu...  Business          266   \n",
       "2  Oil and Economy Cloud Stocks' Outlook (Reuters...  Business          232   \n",
       "3  Iraq Halts Oil Exports from Main Southern Pipe...  Business          256   \n",
       "4  Oil prices soar to all-time record, posing new...  Business          234   \n",
       "\n",
       "   POST_NUM_WORDS  \n",
       "0              21  \n",
       "1              36  \n",
       "2              36  \n",
       "3              36  \n",
       "4              37  "
      ]
     },
     "execution_count": 15,
     "metadata": {},
     "output_type": "execute_result"
    }
   ],
   "source": [
    "df.head()"
   ]
  },
  {
   "cell_type": "code",
   "execution_count": 16,
   "metadata": {},
   "outputs": [
    {
     "data": {
      "image/png": "[encoded data removed]",
      "text/plain": [
       "<Figure size 936x360 with 1 Axes>"
      ]
     },
     "metadata": {},
     "output_type": "display_data"
    }
   ],
   "source": [
    "plt.figure(figsize=(13, 5))\n",
    "for c in df.LABEL.unique():\n",
    "    plt.hist(df[df.LABEL == c][\"POST_LENGTH\"], label=c, bins=100, alpha=0.5)\n",
    "plt.legend()\n",
    "plt.show()\n",
    "plt.close()"
   ]
  },
  {
   "cell_type": "code",
   "execution_count": 17,
   "metadata": {},
   "outputs": [
    {
     "data": {
      "image/png": "[encoded data removed]",
      "text/plain": [
       "<Figure size 936x360 with 1 Axes>"
      ]
     },
     "metadata": {},
     "output_type": "display_data"
    }
   ],
   "source": [
    "plt.figure(figsize=(13, 5))\n",
    "for c in df.LABEL.unique():\n",
    "    plt.hist(df[df.LABEL == c][\"POST_NUM_WORDS\"], label=c, bins=100, alpha=0.5)\n",
    "plt.legend()\n",
    "plt.show()\n",
    "plt.close()"
   ]
  },
  {
   "cell_type": "code",
   "execution_count": 18,
   "metadata": {},
   "outputs": [],
   "source": [
    "from sklearn.model_selection import train_test_split"
   ]
  },
  {
   "cell_type": "code",
   "execution_count": 19,
   "metadata": {},
   "outputs": [
    {
     "name": "stdout",
     "output_type": "stream",
     "text": [
      "(112400,) (7600,)\n"
     ]
    }
   ],
   "source": [
    "X_train, X_val, y_train, y_val = train_test_split(df[\"POST\"], df[\"LABEL\"], \n",
    "                                                  test_size=len(test_df), random_state = 17, stratify = df[\"LABEL\"])\n",
    "X_train = np.array(X_train)\n",
    "X_val = np.array(X_val)\n",
    "y_train = np.array(y_train)\n",
    "y_val = np.array(y_val)\n",
    "\n",
    "print(X_train.shape, X_val.shape)"
   ]
  },
  {
   "cell_type": "markdown",
   "metadata": {},
   "source": [
    "# Count Vectorizer"
   ]
  },
  {
   "cell_type": "code",
   "execution_count": 20,
   "metadata": {},
   "outputs": [],
   "source": [
    "from sklearn.feature_extraction.text import CountVectorizer"
   ]
  },
  {
   "cell_type": "code",
   "execution_count": 21,
   "metadata": {},
   "outputs": [],
   "source": [
    "CountVec = CountVectorizer(token_pattern='\\w+', lowercase=False)"
   ]
  },
  {
   "cell_type": "code",
   "execution_count": 22,
   "metadata": {},
   "outputs": [],
   "source": [
    "sample_data = [\n",
    "    \"the quick brown fox jumps.\",\n",
    "    \"jumps over the lazy dog!\",\n",
    "    \"the lazy dog and the quick fox.\"\n",
    "]\n",
    "\n",
    "index = [\"Doc1\", \"Doc2\", \"Doc3\"]"
   ]
  },
  {
   "cell_type": "code",
   "execution_count": 23,
   "metadata": {},
   "outputs": [],
   "source": [
    "sample_counts = CountVec.fit_transform(sample_data)"
   ]
  },
  {
   "cell_type": "code",
   "execution_count": 24,
   "metadata": {},
   "outputs": [
    {
     "data": {
      "text/html": [
       "<div>\n",
       "<style scoped>\n",
       "    .dataframe tbody tr th:only-of-type {\n",
       "        vertical-align: middle;\n",
       "    }\n",
       "\n",
       "    .dataframe tbody tr th {\n",
       "        vertical-align: top;\n",
       "    }\n",
       "\n",
       "    .dataframe thead th {\n",
       "        text-align: right;\n",
       "    }\n",
       "</style>\n",
       "<table border=\"1\" class=\"dataframe\">\n",
       "  <thead>\n",
       "    <tr style=\"text-align: right;\">\n",
       "      <th></th>\n",
       "      <th>and</th>\n",
       "      <th>brown</th>\n",
       "      <th>dog</th>\n",
       "      <th>fox</th>\n",
       "      <th>jumps</th>\n",
       "      <th>lazy</th>\n",
       "      <th>over</th>\n",
       "      <th>quick</th>\n",
       "      <th>the</th>\n",
       "    </tr>\n",
       "  </thead>\n",
       "  <tbody>\n",
       "    <tr>\n",
       "      <th>Doc1</th>\n",
       "      <td>0</td>\n",
       "      <td>1</td>\n",
       "      <td>0</td>\n",
       "      <td>1</td>\n",
       "      <td>1</td>\n",
       "      <td>0</td>\n",
       "      <td>0</td>\n",
       "      <td>1</td>\n",
       "      <td>1</td>\n",
       "    </tr>\n",
       "    <tr>\n",
       "      <th>Doc2</th>\n",
       "      <td>0</td>\n",
       "      <td>0</td>\n",
       "      <td>1</td>\n",
       "      <td>0</td>\n",
       "      <td>1</td>\n",
       "      <td>1</td>\n",
       "      <td>1</td>\n",
       "      <td>0</td>\n",
       "      <td>1</td>\n",
       "    </tr>\n",
       "    <tr>\n",
       "      <th>Doc3</th>\n",
       "      <td>1</td>\n",
       "      <td>0</td>\n",
       "      <td>1</td>\n",
       "      <td>1</td>\n",
       "      <td>0</td>\n",
       "      <td>1</td>\n",
       "      <td>0</td>\n",
       "      <td>1</td>\n",
       "      <td>2</td>\n",
       "    </tr>\n",
       "  </tbody>\n",
       "</table>\n",
       "</div>"
      ],
      "text/plain": [
       "      and  brown  dog  fox  jumps  lazy  over  quick  the\n",
       "Doc1    0      1    0    1      1     0     0      1    1\n",
       "Doc2    0      0    1    0      1     1     1      0    1\n",
       "Doc3    1      0    1    1      0     1     0      1    2"
      ]
     },
     "execution_count": 24,
     "metadata": {},
     "output_type": "execute_result"
    }
   ],
   "source": [
    "pd.DataFrame(sample_counts.toarray(), columns=CountVec.get_feature_names(), index=index)"
   ]
  },
  {
   "cell_type": "code",
   "execution_count": 25,
   "metadata": {},
   "outputs": [
    {
     "data": {
      "text/plain": [
       "CountVectorizer(analyzer='word', binary=False, decode_error='strict',\n",
       "        dtype=<class 'numpy.int64'>, encoding='utf-8', input='content',\n",
       "        lowercase=True, max_df=1.0, max_features=None, min_df=1,\n",
       "        ngram_range=(1, 1), preprocessor=None, stop_words=None,\n",
       "        strip_accents=None, token_pattern='(?u)\\\\b\\\\w\\\\w+\\\\b',\n",
       "        tokenizer=None, vocabulary=None)"
      ]
     },
     "execution_count": 25,
     "metadata": {},
     "output_type": "execute_result"
    }
   ],
   "source": [
    "CountVectorizer()"
   ]
  },
  {
   "cell_type": "markdown",
   "metadata": {},
   "source": [
    "#### max_df = 0.50 means \"ignore terms that appear in more than 50% of the documents\".\n",
    "#### max_df = 25 means \"ignore terms that appear in more than 25 documents\".\n",
    "#### min_df = 0.01 means \"ignore terms that appear in less than 1% of the documents\".\n",
    "#### min_df = 5 means \"ignore terms that appear in less than 5 documents\"."
   ]
  },
  {
   "cell_type": "code",
   "execution_count": 26,
   "metadata": {},
   "outputs": [],
   "source": [
    "CountVec = CountVectorizer(token_pattern='\\w+', lowercase=False, ngram_range=(1, 2), min_df=2)"
   ]
  },
  {
   "cell_type": "code",
   "execution_count": 27,
   "metadata": {},
   "outputs": [],
   "source": [
    "sample_counts = CountVec.fit_transform(sample_data)"
   ]
  },
  {
   "cell_type": "code",
   "execution_count": 28,
   "metadata": {},
   "outputs": [
    {
     "data": {
      "text/html": [
       "<div>\n",
       "<style scoped>\n",
       "    .dataframe tbody tr th:only-of-type {\n",
       "        vertical-align: middle;\n",
       "    }\n",
       "\n",
       "    .dataframe tbody tr th {\n",
       "        vertical-align: top;\n",
       "    }\n",
       "\n",
       "    .dataframe thead th {\n",
       "        text-align: right;\n",
       "    }\n",
       "</style>\n",
       "<table border=\"1\" class=\"dataframe\">\n",
       "  <thead>\n",
       "    <tr style=\"text-align: right;\">\n",
       "      <th></th>\n",
       "      <th>dog</th>\n",
       "      <th>fox</th>\n",
       "      <th>jumps</th>\n",
       "      <th>lazy</th>\n",
       "      <th>lazy dog</th>\n",
       "      <th>quick</th>\n",
       "      <th>the</th>\n",
       "      <th>the lazy</th>\n",
       "      <th>the quick</th>\n",
       "    </tr>\n",
       "  </thead>\n",
       "  <tbody>\n",
       "    <tr>\n",
       "      <th>Doc1</th>\n",
       "      <td>0</td>\n",
       "      <td>1</td>\n",
       "      <td>1</td>\n",
       "      <td>0</td>\n",
       "      <td>0</td>\n",
       "      <td>1</td>\n",
       "      <td>1</td>\n",
       "      <td>0</td>\n",
       "      <td>1</td>\n",
       "    </tr>\n",
       "    <tr>\n",
       "      <th>Doc2</th>\n",
       "      <td>1</td>\n",
       "      <td>0</td>\n",
       "      <td>1</td>\n",
       "      <td>1</td>\n",
       "      <td>1</td>\n",
       "      <td>0</td>\n",
       "      <td>1</td>\n",
       "      <td>1</td>\n",
       "      <td>0</td>\n",
       "    </tr>\n",
       "    <tr>\n",
       "      <th>Doc3</th>\n",
       "      <td>1</td>\n",
       "      <td>1</td>\n",
       "      <td>0</td>\n",
       "      <td>1</td>\n",
       "      <td>1</td>\n",
       "      <td>1</td>\n",
       "      <td>2</td>\n",
       "      <td>1</td>\n",
       "      <td>1</td>\n",
       "    </tr>\n",
       "  </tbody>\n",
       "</table>\n",
       "</div>"
      ],
      "text/plain": [
       "      dog  fox  jumps  lazy  lazy dog  quick  the  the lazy  the quick\n",
       "Doc1    0    1      1     0         0      1    1         0          1\n",
       "Doc2    1    0      1     1         1      0    1         1          0\n",
       "Doc3    1    1      0     1         1      1    2         1          1"
      ]
     },
     "execution_count": 28,
     "metadata": {},
     "output_type": "execute_result"
    }
   ],
   "source": [
    "pd.DataFrame(sample_counts.toarray(), columns=CountVec.get_feature_names(), index=index)"
   ]
  },
  {
   "cell_type": "code",
   "execution_count": 29,
   "metadata": {},
   "outputs": [
    {
     "data": {
      "text/plain": [
       "112400"
      ]
     },
     "execution_count": 29,
     "metadata": {},
     "output_type": "execute_result"
    }
   ],
   "source": [
    "len(X_train)"
   ]
  },
  {
   "cell_type": "code",
   "execution_count": 30,
   "metadata": {},
   "outputs": [
    {
     "name": "stdout",
     "output_type": "stream",
     "text": [
      "min_df=1, number_of_words: 86045\n",
      "min_df=5, number_of_words: 32443\n",
      "min_df=10, number_of_words: 21890\n",
      "min_df=20, number_of_words: 14492\n",
      "min_df=50, number_of_words: 8109\n"
     ]
    }
   ],
   "source": [
    "for min_df in [1, 5, 10, 20, 50]:\n",
    "    CountVec = CountVectorizer(lowercase=False, token_pattern='\\w+', min_df=min_df)\n",
    "    CountVec.fit(X_train)\n",
    "    print(\"min_df={}, number_of_words: {}\".format(min_df, len(CountVec.get_feature_names())))"
   ]
  },
  {
   "cell_type": "code",
   "execution_count": 31,
   "metadata": {},
   "outputs": [
    {
     "name": "stdout",
     "output_type": "stream",
     "text": [
      "min_df=1, number_of_words: 1375125\n",
      "min_df=5, number_of_words: 154232\n",
      "min_df=10, number_of_words: 75274\n",
      "min_df=20, number_of_words: 38452\n",
      "min_df=50, number_of_words: 16121\n"
     ]
    }
   ],
   "source": [
    "for min_df in [1, 5, 10, 20, 50]:\n",
    "    CountVec = CountVectorizer(lowercase=False, token_pattern='\\w+', min_df=min_df, ngram_range=(1, 2))\n",
    "    CountVec.fit(X_train)\n",
    "    print(\"min_df={}, number_of_words: {}\".format(min_df, len(CountVec.get_feature_names())))"
   ]
  },
  {
   "cell_type": "code",
   "execution_count": null,
   "metadata": {},
   "outputs": [],
   "source": []
  },
  {
   "cell_type": "markdown",
   "metadata": {},
   "source": [
    "# Naive Bayes"
   ]
  },
  {
   "cell_type": "code",
   "execution_count": 32,
   "metadata": {},
   "outputs": [],
   "source": [
    "from sklearn.naive_bayes import MultinomialNB\n",
    "from sklearn.pipeline import Pipeline\n",
    "from sklearn.metrics import accuracy_score"
   ]
  },
  {
   "cell_type": "code",
   "execution_count": 33,
   "metadata": {},
   "outputs": [],
   "source": [
    "best_naive_bayes_score, best_naive_bayes_clf = 0, None"
   ]
  },
  {
   "cell_type": "code",
   "execution_count": 34,
   "metadata": {},
   "outputs": [
    {
     "name": "stdout",
     "output_type": "stream",
     "text": [
      "train accuracy 0.920\n",
      "val accuracy 0.906\n",
      "\n"
     ]
    }
   ],
   "source": [
    "nb = Pipeline([('countVec', CountVectorizer(lowercase=False, token_pattern='\\w+')),\n",
    "               ('clf', MultinomialNB()),])\n",
    "nb.fit(X_train, y_train)\n",
    "\n",
    "y_pred = nb.predict(X_val)\n",
    "val_score = accuracy_score(y_pred, y_val)\n",
    "\n",
    "print('train accuracy {0:,.3f}'.format(accuracy_score(nb.predict(X_train), y_train)))\n",
    "print('val accuracy {0:,.3f}\\n'.format(val_score))\n",
    "\n",
    "if val_score > best_naive_bayes_score:\n",
    "    best_naive_bayes_score = val_score\n",
    "    best_naive_bayes_clf = nb    "
   ]
  },
  {
   "cell_type": "code",
   "execution_count": 35,
   "metadata": {},
   "outputs": [
    {
     "name": "stdout",
     "output_type": "stream",
     "text": [
      "train accuracy 0.954\n",
      "val accuracy 0.915\n",
      "\n"
     ]
    }
   ],
   "source": [
    "nb = Pipeline([('countVec', CountVectorizer(lowercase=False, token_pattern='\\w+', ngram_range=(1, 2))),\n",
    "               ('clf', MultinomialNB()),])\n",
    "nb.fit(X_train, y_train)\n",
    "\n",
    "y_pred = nb.predict(X_val)\n",
    "val_score = accuracy_score(y_pred, y_val)\n",
    "\n",
    "print('train accuracy {0:,.3f}'.format(accuracy_score(nb.predict(X_train), y_train)))\n",
    "print('val accuracy {0:,.3f}\\n'.format(val_score))\n",
    "\n",
    "if val_score > best_naive_bayes_score:\n",
    "    best_naive_bayes_score = val_score\n",
    "    best_naive_bayes_clf = nb    "
   ]
  },
  {
   "cell_type": "code",
   "execution_count": 36,
   "metadata": {},
   "outputs": [
    {
     "name": "stdout",
     "output_type": "stream",
     "text": [
      "train accuracy 0.971\n",
      "val accuracy 0.916\n",
      "\n"
     ]
    }
   ],
   "source": [
    "nb = Pipeline([('countVec', CountVectorizer(lowercase=False, token_pattern='\\w+', ngram_range=(1, 3))),\n",
    "               ('clf', MultinomialNB()),])\n",
    "nb.fit(X_train, y_train)\n",
    "\n",
    "y_pred = nb.predict(X_val)\n",
    "val_score = accuracy_score(y_pred, y_val)\n",
    "\n",
    "print('train accuracy {0:,.3f}'.format(accuracy_score(nb.predict(X_train), y_train)))\n",
    "print('val accuracy {0:,.3f}\\n'.format(val_score))\n",
    "\n",
    "if val_score > best_naive_bayes_score:\n",
    "    best_naive_bayes_score = val_score\n",
    "    best_naive_bayes_clf = nb    "
   ]
  },
  {
   "cell_type": "code",
   "execution_count": null,
   "metadata": {},
   "outputs": [],
   "source": []
  },
  {
   "cell_type": "markdown",
   "metadata": {},
   "source": [
    "# Logistic Regression"
   ]
  },
  {
   "cell_type": "code",
   "execution_count": 37,
   "metadata": {},
   "outputs": [],
   "source": [
    "from sklearn.linear_model import LogisticRegression"
   ]
  },
  {
   "cell_type": "code",
   "execution_count": 38,
   "metadata": {},
   "outputs": [],
   "source": [
    "best_log_reg_score, best_log_reg_clf = 0, None"
   ]
  },
  {
   "cell_type": "code",
   "execution_count": 39,
   "metadata": {},
   "outputs": [
    {
     "name": "stdout",
     "output_type": "stream",
     "text": [
      "train accuracy 0.977\n",
      "val accuracy 0.917\n",
      "\n"
     ]
    }
   ],
   "source": [
    "logreg = Pipeline([('countVec', CountVectorizer(lowercase=False, token_pattern='\\w+')),\n",
    "                   ('clf', LogisticRegression(n_jobs=-2, solver=\"lbfgs\", random_state=42)),])\n",
    "logreg.fit(X_train, y_train)\n",
    "\n",
    "y_pred = logreg.predict(X_val)\n",
    "val_score = accuracy_score(y_pred, y_val)\n",
    "\n",
    "print('train accuracy {0:,.3f}'.format(accuracy_score(logreg.predict(X_train), y_train)))\n",
    "print('val accuracy {0:,.3f}\\n'.format(val_score))\n",
    "\n",
    "if val_score > best_log_reg_score:\n",
    "    best_log_reg_score = val_score\n",
    "    best_log_reg_clf = logreg    "
   ]
  },
  {
   "cell_type": "code",
   "execution_count": 40,
   "metadata": {},
   "outputs": [
    {
     "name": "stdout",
     "output_type": "stream",
     "text": [
      "train accuracy 1.000\n",
      "val accuracy 0.924\n",
      "\n"
     ]
    }
   ],
   "source": [
    "logreg = Pipeline([('countVec', CountVectorizer(lowercase=False, token_pattern='\\w+', ngram_range=(1, 2))),\n",
    "                   ('clf', LogisticRegression(n_jobs=-2, solver=\"lbfgs\", random_state=42)),])\n",
    "logreg.fit(X_train, y_train)\n",
    "\n",
    "y_pred = logreg.predict(X_val)\n",
    "val_score = accuracy_score(y_pred, y_val)\n",
    "\n",
    "print('train accuracy {0:,.3f}'.format(accuracy_score(logreg.predict(X_train), y_train)))\n",
    "print('val accuracy {0:,.3f}\\n'.format(val_score))\n",
    "\n",
    "if val_score > best_log_reg_score:\n",
    "    best_log_reg_score = val_score\n",
    "    best_log_reg_clf = logreg    "
   ]
  },
  {
   "cell_type": "code",
   "execution_count": null,
   "metadata": {},
   "outputs": [],
   "source": []
  },
  {
   "cell_type": "markdown",
   "metadata": {},
   "source": [
    "# TF-IDF"
   ]
  },
  {
   "cell_type": "code",
   "execution_count": 41,
   "metadata": {},
   "outputs": [],
   "source": [
    "from sklearn.feature_extraction.text import TfidfVectorizer"
   ]
  },
  {
   "cell_type": "code",
   "execution_count": 42,
   "metadata": {},
   "outputs": [],
   "source": [
    "TFIDF = TfidfVectorizer(token_pattern='\\w+', lowercase=False)"
   ]
  },
  {
   "cell_type": "code",
   "execution_count": 43,
   "metadata": {},
   "outputs": [],
   "source": [
    "sample_tf_counts = TFIDF.fit_transform(sample_data)"
   ]
  },
  {
   "cell_type": "code",
   "execution_count": 44,
   "metadata": {},
   "outputs": [
    {
     "data": {
      "text/html": [
       "<div>\n",
       "<style scoped>\n",
       "    .dataframe tbody tr th:only-of-type {\n",
       "        vertical-align: middle;\n",
       "    }\n",
       "\n",
       "    .dataframe tbody tr th {\n",
       "        vertical-align: top;\n",
       "    }\n",
       "\n",
       "    .dataframe thead th {\n",
       "        text-align: right;\n",
       "    }\n",
       "</style>\n",
       "<table border=\"1\" class=\"dataframe\">\n",
       "  <thead>\n",
       "    <tr style=\"text-align: right;\">\n",
       "      <th></th>\n",
       "      <th>and</th>\n",
       "      <th>brown</th>\n",
       "      <th>dog</th>\n",
       "      <th>fox</th>\n",
       "      <th>jumps</th>\n",
       "      <th>lazy</th>\n",
       "      <th>over</th>\n",
       "      <th>quick</th>\n",
       "      <th>the</th>\n",
       "    </tr>\n",
       "  </thead>\n",
       "  <tbody>\n",
       "    <tr>\n",
       "      <th>Doc1</th>\n",
       "      <td>0.00</td>\n",
       "      <td>0.57</td>\n",
       "      <td>0.00</td>\n",
       "      <td>0.43</td>\n",
       "      <td>0.43</td>\n",
       "      <td>0.00</td>\n",
       "      <td>0.00</td>\n",
       "      <td>0.43</td>\n",
       "      <td>0.34</td>\n",
       "    </tr>\n",
       "    <tr>\n",
       "      <th>Doc2</th>\n",
       "      <td>0.00</td>\n",
       "      <td>0.00</td>\n",
       "      <td>0.43</td>\n",
       "      <td>0.00</td>\n",
       "      <td>0.43</td>\n",
       "      <td>0.43</td>\n",
       "      <td>0.57</td>\n",
       "      <td>0.00</td>\n",
       "      <td>0.34</td>\n",
       "    </tr>\n",
       "    <tr>\n",
       "      <th>Doc3</th>\n",
       "      <td>0.46</td>\n",
       "      <td>0.00</td>\n",
       "      <td>0.35</td>\n",
       "      <td>0.35</td>\n",
       "      <td>0.00</td>\n",
       "      <td>0.35</td>\n",
       "      <td>0.00</td>\n",
       "      <td>0.35</td>\n",
       "      <td>0.54</td>\n",
       "    </tr>\n",
       "  </tbody>\n",
       "</table>\n",
       "</div>"
      ],
      "text/plain": [
       "       and  brown   dog   fox  jumps  lazy  over  quick   the\n",
       "Doc1  0.00   0.57  0.00  0.43   0.43  0.00  0.00   0.43  0.34\n",
       "Doc2  0.00   0.00  0.43  0.00   0.43  0.43  0.57   0.00  0.34\n",
       "Doc3  0.46   0.00  0.35  0.35   0.00  0.35  0.00   0.35  0.54"
      ]
     },
     "execution_count": 44,
     "metadata": {},
     "output_type": "execute_result"
    }
   ],
   "source": [
    "pd.DataFrame(sample_tf_counts.toarray(), columns=TFIDF.get_feature_names(), index=index).round(2)"
   ]
  },
  {
   "cell_type": "code",
   "execution_count": null,
   "metadata": {},
   "outputs": [],
   "source": []
  },
  {
   "cell_type": "code",
   "execution_count": 45,
   "metadata": {},
   "outputs": [
    {
     "name": "stdout",
     "output_type": "stream",
     "text": [
      "train accuracy 0.939\n",
      "val accuracy 0.912\n",
      "\n"
     ]
    }
   ],
   "source": [
    "nb = Pipeline([('tfidf', TfidfVectorizer(lowercase=False, token_pattern='\\w+', ngram_range=(1, 2))),\n",
    "               ('clf', MultinomialNB()),])\n",
    "nb.fit(X_train, y_train)\n",
    "\n",
    "y_pred = nb.predict(X_val)\n",
    "val_score = accuracy_score(y_pred, y_val)\n",
    "\n",
    "print('train accuracy {0:,.3f}'.format(accuracy_score(nb.predict(X_train), y_train)))\n",
    "print('val accuracy {0:,.3f}\\n'.format(val_score))\n",
    "\n",
    "if val_score > best_naive_bayes_score:\n",
    "    best_naive_bayes_score = val_score\n",
    "    best_naive_bayes_clf = nb"
   ]
  },
  {
   "cell_type": "code",
   "execution_count": 46,
   "metadata": {},
   "outputs": [
    {
     "name": "stdout",
     "output_type": "stream",
     "text": [
      "train accuracy 0.949\n",
      "val accuracy 0.915\n",
      "\n"
     ]
    }
   ],
   "source": [
    "logreg = Pipeline([('tfidf', TfidfVectorizer(lowercase=False, token_pattern='\\w+', ngram_range=(1, 2))),\n",
    "                   ('clf', LogisticRegression(n_jobs=-2, solver=\"lbfgs\", random_state=42)),])\n",
    "logreg.fit(X_train, y_train)\n",
    "\n",
    "y_pred = logreg.predict(X_val)\n",
    "val_score = accuracy_score(y_pred, y_val)\n",
    "\n",
    "print('train accuracy {0:,.3f}'.format(accuracy_score(logreg.predict(X_train), y_train)))\n",
    "print('val accuracy {0:,.3f}\\n'.format(val_score))\n",
    "\n",
    "if val_score > best_log_reg_score:\n",
    "    best_log_reg_score = val_score\n",
    "    best_log_reg_clf = logreg"
   ]
  },
  {
   "cell_type": "code",
   "execution_count": null,
   "metadata": {},
   "outputs": [],
   "source": []
  },
  {
   "cell_type": "code",
   "execution_count": 47,
   "metadata": {},
   "outputs": [],
   "source": [
    "from fastText import train_supervised\n",
    "\n",
    "def to_fasttext_format(data: list, labels: list, save_path: str=None):\n",
    "    ft_data = []\n",
    "    for d, l in zip(data, labels):\n",
    "        ft_data.append(\"__label__{} {}\".format(l, d))\n",
    "    if save_path:\n",
    "        np.savetxt(save_path, ft_data, fmt='%s')\n",
    "    else:\n",
    "        return ft_data\n",
    "    \n",
    "def train_fasttext(X_train, y_train, wordNgrams=1, minCount=1, ft_train_path=\"./data/tmp_train.txt\"):\n",
    "    to_fasttext_format(X_train, y_train, save_path=ft_train_path)\n",
    "    ft_model = train_supervised(ft_train_path, wordNgrams=wordNgrams, minCount=minCount, epoch=10, loss=\"ns\")\n",
    "    train_preds = [i[0].split('_')[-1] for i in ft_model.predict(list(X_train))[0]]    \n",
    "    print('train accuracy {0:,.3f}'.format(accuracy_score(train_preds, y_train)))\n",
    "    \n",
    "    return ft_model"
   ]
  },
  {
   "cell_type": "code",
   "execution_count": 48,
   "metadata": {},
   "outputs": [],
   "source": [
    "best_fasttext_score, best_fasttext_clf = 0, None"
   ]
  },
  {
   "cell_type": "code",
   "execution_count": 49,
   "metadata": {},
   "outputs": [
    {
     "name": "stdout",
     "output_type": "stream",
     "text": [
      "train accuracy 0.987\n",
      "val accuracy 0.920\n"
     ]
    }
   ],
   "source": [
    "ft_model = train_fasttext(X_train, y_train)\n",
    "val_preds = [i[0].split('_')[-1] for i in ft_model.predict(list(X_val))[0]]\n",
    "val_score = accuracy_score(val_preds, y_val)\n",
    "print('val accuracy {0:,.3f}'.format(val_score))\n",
    "\n",
    "if val_score > best_fasttext_score:\n",
    "    best_fasttext_score = val_score\n",
    "    best_fasttext_clf = ft_model    "
   ]
  },
  {
   "cell_type": "code",
   "execution_count": 50,
   "metadata": {},
   "outputs": [
    {
     "name": "stdout",
     "output_type": "stream",
     "text": [
      "train accuracy 1.000\n",
      "val accuracy 0.923\n"
     ]
    }
   ],
   "source": [
    "ft_model = train_fasttext(X_train, y_train, wordNgrams=2)\n",
    "val_preds = [i[0].split('_')[-1] for i in ft_model.predict(list(X_val))[0]]\n",
    "val_score = accuracy_score(val_preds, y_val)\n",
    "print('val accuracy {0:,.3f}'.format(val_score))\n",
    "\n",
    "if val_score > best_fasttext_score:\n",
    "    best_fasttext_score = val_score\n",
    "    best_fasttext_clf = ft_model    "
   ]
  },
  {
   "cell_type": "code",
   "execution_count": null,
   "metadata": {},
   "outputs": [],
   "source": []
  },
  {
   "cell_type": "markdown",
   "metadata": {},
   "source": [
    "# text preprocessing"
   ]
  },
  {
   "cell_type": "code",
   "execution_count": 51,
   "metadata": {},
   "outputs": [],
   "source": [
    "word_counts = {}\n",
    "for post in X_train:\n",
    "    for word in post.split():\n",
    "        if word in word_counts:\n",
    "            word_counts[word] += 1\n",
    "        else:\n",
    "            word_counts[word] = 1"
   ]
  },
  {
   "cell_type": "code",
   "execution_count": 52,
   "metadata": {
    "scrolled": true
   },
   "outputs": [
    {
     "data": {
      "text/plain": [
       "[('the', 166197),\n",
       " ('to', 110132),\n",
       " ('a', 92004),\n",
       " ('of', 91145),\n",
       " ('in', 86358),\n",
       " ('and', 63726),\n",
       " ('on', 51716),\n",
       " ('for', 45375),\n",
       " ('-', 36660),\n",
       " ('#39;s', 28912)]"
      ]
     },
     "execution_count": 52,
     "metadata": {},
     "output_type": "execute_result"
    }
   ],
   "source": [
    "top_k = 10\n",
    "sorted(word_counts.items(), key=lambda t: t[1], reverse=True)[:top_k]"
   ]
  },
  {
   "cell_type": "code",
   "execution_count": 53,
   "metadata": {},
   "outputs": [],
   "source": [
    "from nltk.corpus import stopwords"
   ]
  },
  {
   "cell_type": "code",
   "execution_count": 54,
   "metadata": {},
   "outputs": [],
   "source": [
    "stop_words = set(stopwords.words('english'))"
   ]
  },
  {
   "cell_type": "code",
   "execution_count": 55,
   "metadata": {},
   "outputs": [
    {
     "name": "stdout",
     "output_type": "stream",
     "text": [
      "- 36660\n",
      "#39;s 28912\n",
      "said 15430\n",
      "(Reuters) 12037\n",
      "US 10821\n",
      "new 9568\n",
      "(AP) 7772\n",
      "first 7664\n",
      "-- 7400\n",
      "AP 7295\n"
     ]
    }
   ],
   "source": [
    "cnt = 0\n",
    "for w, c in sorted(word_counts.items(), key=lambda t: t[1], reverse=True):\n",
    "    if w.lower() not in stop_words:\n",
    "        print(w, c)\n",
    "        cnt += 1\n",
    "        if cnt == top_k:\n",
    "            break"
   ]
  },
  {
   "cell_type": "code",
   "execution_count": 56,
   "metadata": {},
   "outputs": [],
   "source": [
    "def get_sample_with(data, expr, size=5, with_spaces=True):\n",
    "    try:\n",
    "        if with_spaces:\n",
    "            [print(i, end='\\n\\n') for i in np.random.choice([i for i in data if ' {} '.format(expr) in i], size)]\n",
    "        else:\n",
    "            [print(i, end='\\n\\n') for i in np.random.choice([i for i in data if expr in i], size)]\n",
    "    except:\n",
    "        return \"no such examples\""
   ]
  },
  {
   "cell_type": "code",
   "execution_count": 57,
   "metadata": {},
   "outputs": [
    {
     "name": "stdout",
     "output_type": "stream",
     "text": [
      "It #39;s the Occupation, Stupid Four years ago on Sept. 28, 2000, when Ariel Sharon made his operatic visit to the Temple Mount, no one could have predicted how dire the situation would become so quickly: close to 6,000 dead; the building \n",
      "\n",
      "No place for Anelka or Silvestre in Domenech #39;s squad to face &lt;b&gt;...&lt;/b&gt; France coach Raymond Domenech named his 20-man squad Thursday for upcoming 2006 World Cup qualifying matches against Israel and the Faroe Islands.\n",
      "\n",
      "Compensation plan for 27,000 Pinochet victims Chile #39;s government is to seek congressional approval to compensate more than 27,000 victims of political imprisonment and torture at the hands of the country #39;s rightwing military regime, which ruled from 1973 to 1990.\n",
      "\n"
     ]
    }
   ],
   "source": [
    "get_sample_with(X_train, \" #39;\", with_spaces=False, size=3)"
   ]
  },
  {
   "cell_type": "code",
   "execution_count": 58,
   "metadata": {},
   "outputs": [
    {
     "name": "stdout",
     "output_type": "stream",
     "text": [
      "Technology NEW HAVEN, Conn. -- Slower growth and reduced profits will likely squeeze three of the nation #39;s top 10 personal computer manufacturers out of the market by 2007, a research firm predicted Monday.\n",
      "\n",
      "Gerrard stars in dramatic comeback LIVERPOOL, England -- Steven Gerrard crashed home a stunning half-volley as four-times European champions Liverpool came back to beat Olympiakos Piraeus 3-1 on Wednesday and reach the Champions League knockout stage.\n",
      "\n",
      "Chavez urges opposition to recognize results of referendum CARACAS, August 22 (Itar-Tass) -- President of Venezuela Hugo Chavez has called on the opposition to recognize the results of a referendum on confidence in the president held on August 15.\n",
      "\n"
     ]
    }
   ],
   "source": [
    "get_sample_with(X_train, \"--\", with_spaces=False, size=3)"
   ]
  },
  {
   "cell_type": "code",
   "execution_count": 59,
   "metadata": {},
   "outputs": [
    {
     "data": {
      "text/plain": [
       "[('replied,', 1),\n",
       " ('mugshots', 1),\n",
       " ('few\\\\days', 1),\n",
       " ('\"As', 1),\n",
       " ('CONTRADICTING', 1),\n",
       " (\"Tennis's\", 1),\n",
       " (\"Light'\", 1),\n",
       " ('YUKOY),', 1),\n",
       " ('quot;Solution', 1),\n",
       " ('peels', 1)]"
      ]
     },
     "execution_count": 59,
     "metadata": {},
     "output_type": "execute_result"
    }
   ],
   "source": [
    "sorted(word_counts.items(), key=lambda t: t[1])[:top_k]"
   ]
  },
  {
   "cell_type": "code",
   "execution_count": 60,
   "metadata": {},
   "outputs": [
    {
     "data": {
      "text/plain": [
       "['!',\n",
       " '!!?\\\\\\\\&lt;Bush&gt;',\n",
       " '!!\\\\\\\\&lt;Bush&gt;',\n",
       " '!).',\n",
       " '!K7',\n",
       " '\"',\n",
       " '\"\\'CSI\\'',\n",
       " '\".jobs\"',\n",
       " '\".md\"',\n",
       " '\".mobi\"']"
      ]
     },
     "execution_count": 60,
     "metadata": {},
     "output_type": "execute_result"
    }
   ],
   "source": [
    "sorted(word_counts.keys())[:top_k]"
   ]
  },
  {
   "cell_type": "code",
   "execution_count": 61,
   "metadata": {},
   "outputs": [
    {
     "data": {
      "text/plain": [
       "86045"
      ]
     },
     "execution_count": 61,
     "metadata": {},
     "output_type": "execute_result"
    }
   ],
   "source": [
    "CountVec = CountVectorizer(token_pattern='\\w+', lowercase=False)\n",
    "CountVec.fit(X_train)\n",
    "len(CountVec.get_feature_names())"
   ]
  },
  {
   "cell_type": "code",
   "execution_count": 62,
   "metadata": {},
   "outputs": [],
   "source": [
    "import re"
   ]
  },
  {
   "cell_type": "code",
   "execution_count": 63,
   "metadata": {},
   "outputs": [],
   "source": [
    "letters_numbers = re.compile(r'[a-zA-Z0-9]+')"
   ]
  },
  {
   "cell_type": "code",
   "execution_count": 64,
   "metadata": {},
   "outputs": [
    {
     "name": "stdout",
     "output_type": "stream",
     "text": [
      "Business Briefs Markel Corp. said yesterday that state insurance departments had issued document requests or administrative subpoenas to several of its subsidiaries related to producer compensation arrangements.\n",
      "\n",
      "Business Briefs Markel Corp said yesterday that state insurance departments had issued document requests or administrative subpoenas to several of its subsidiaries related to producer compensation arrangements\n"
     ]
    }
   ],
   "source": [
    "sample = X_train[3]\n",
    "print(sample, end=\"\\n\\n\")\n",
    "print(\" \".join(letters_numbers.findall(sample)))"
   ]
  },
  {
   "cell_type": "code",
   "execution_count": 65,
   "metadata": {},
   "outputs": [],
   "source": [
    "X_train_prep = []\n",
    "for desc in X_train:\n",
    "    only_letter_words = letters_numbers.findall(desc)\n",
    "    only_letter_desc = \" \".join(only_letter_words)\n",
    "    only_letter_desc = only_letter_desc.lower()\n",
    "    X_train_prep.append(only_letter_desc)\n",
    "X_train_prep = np.array(X_train_prep)"
   ]
  },
  {
   "cell_type": "code",
   "execution_count": 66,
   "metadata": {},
   "outputs": [
    {
     "data": {
      "text/plain": [
       "63502"
      ]
     },
     "execution_count": 66,
     "metadata": {},
     "output_type": "execute_result"
    }
   ],
   "source": [
    "CountVec = CountVectorizer(token_pattern='\\w+')\n",
    "CountVec.fit(X_train_prep)\n",
    "words = np.array(CountVec.get_feature_names())\n",
    "len(words)"
   ]
  },
  {
   "cell_type": "code",
   "execution_count": 67,
   "metadata": {},
   "outputs": [
    {
     "data": {
      "text/plain": [
       "array(['0', '00', '000', '000016447', '00010563n', '0002', '0004287',\n",
       "       '0005173miami050', '000660', '0009875buffalo040'], dtype='<U38')"
      ]
     },
     "execution_count": 67,
     "metadata": {},
     "output_type": "execute_result"
    }
   ],
   "source": [
    "words[:top_k]"
   ]
  },
  {
   "cell_type": "code",
   "execution_count": 68,
   "metadata": {},
   "outputs": [],
   "source": [
    "word_counts = {}\n",
    "for post in X_train_prep:\n",
    "    for word in post.split():\n",
    "        if word in word_counts:\n",
    "            word_counts[word] += 1\n",
    "        else:\n",
    "            word_counts[word] = 1"
   ]
  },
  {
   "cell_type": "code",
   "execution_count": 69,
   "metadata": {
    "scrolled": true
   },
   "outputs": [
    {
     "data": {
      "text/plain": [
       "[('the', 192427),\n",
       " ('to', 113067),\n",
       " ('a', 106283),\n",
       " ('of', 92335),\n",
       " ('in', 90470),\n",
       " ('and', 65250),\n",
       " ('s', 58082),\n",
       " ('on', 54084),\n",
       " ('for', 47500),\n",
       " ('39', 41571)]"
      ]
     },
     "execution_count": 69,
     "metadata": {},
     "output_type": "execute_result"
    }
   ],
   "source": [
    "sorted(word_counts.items(), key=lambda t: t[1], reverse=True)[:top_k]"
   ]
  },
  {
   "cell_type": "code",
   "execution_count": 70,
   "metadata": {},
   "outputs": [
    {
     "data": {
      "text/plain": [
       "[('mugshots', 1),\n",
       " ('scandinavia', 1),\n",
       " ('jumpdrive', 1),\n",
       " ('ineligibility', 1),\n",
       " ('servicemaster', 1),\n",
       " ('3379', 1),\n",
       " ('vianna', 1),\n",
       " ('depravity', 1),\n",
       " ('fryer', 1),\n",
       " ('estwithin', 1)]"
      ]
     },
     "execution_count": 70,
     "metadata": {},
     "output_type": "execute_result"
    }
   ],
   "source": [
    "sorted(word_counts.items(), key=lambda t: t[1])[:top_k]"
   ]
  },
  {
   "cell_type": "code",
   "execution_count": 71,
   "metadata": {},
   "outputs": [
    {
     "name": "stdout",
     "output_type": "stream",
     "text": [
      "39 41571\n",
      "new 20052\n",
      "said 18963\n",
      "reuters 18185\n",
      "ap 15271\n",
      "gt 12457\n",
      "lt 12411\n",
      "us 12393\n",
      "two 9610\n",
      "first 9212\n"
     ]
    }
   ],
   "source": [
    "cnt = 0\n",
    "for w, c in sorted(word_counts.items(), key=lambda t: t[1], reverse=True):\n",
    "    if w.lower() not in stop_words:\n",
    "        print(w, c)\n",
    "        cnt += 1\n",
    "        if cnt == top_k:\n",
    "            break"
   ]
  },
  {
   "cell_type": "code",
   "execution_count": 72,
   "metadata": {},
   "outputs": [
    {
     "name": "stdout",
     "output_type": "stream",
     "text": [
      "before the bell sanderson farms falls new york reuters shares of sanderson farms inc lt a href http www investor reuters com fullquote aspx ticker safm o target stocks quickinfo fullquote gt safm o lt a gt sunk nearly 16 percent before the bell on tuesday after the chicken producer s quarterly earnings fell short of wall street estimates\n",
      "\n"
     ]
    }
   ],
   "source": [
    "get_sample_with(X_train_prep, \"gt\", size=1)"
   ]
  },
  {
   "cell_type": "code",
   "execution_count": 73,
   "metadata": {},
   "outputs": [
    {
     "name": "stdout",
     "output_type": "stream",
     "text": [
      "Chirac names ally to replace rival THE French president promoted a staunch ally to replace a popular finance minister, strengthening his hand ahead of an expected struggle for the governing party #39;s 2007 presidential nomination.\n",
      "\n"
     ]
    }
   ],
   "source": [
    "get_sample_with(X_train, \"gt\", with_spaces=False, size=1)"
   ]
  },
  {
   "cell_type": "code",
   "execution_count": null,
   "metadata": {},
   "outputs": [],
   "source": []
  },
  {
   "cell_type": "code",
   "execution_count": 74,
   "metadata": {},
   "outputs": [],
   "source": [
    "from unidecode import unidecode\n",
    "from nltk.stem import PorterStemmer"
   ]
  },
  {
   "cell_type": "code",
   "execution_count": 75,
   "metadata": {
    "scrolled": true
   },
   "outputs": [
    {
     "name": "stdout",
     "output_type": "stream",
     "text": [
      "C'est la premiere fois que deux equipes @\n",
      "vodka\n",
      "Bei Jing \n"
     ]
    }
   ],
   "source": [
    "print(unidecode(\"C'est la première fois que deux équipes @\"))\n",
    "print(unidecode(\"водка\"))\n",
    "print(unidecode(u\"北亰\"))"
   ]
  },
  {
   "cell_type": "code",
   "execution_count": 76,
   "metadata": {},
   "outputs": [],
   "source": [
    "letters_numbers = re.compile(r'[a-zA-Z0-9]+')\n",
    "stemmer = PorterStemmer()\n",
    "\n",
    "def preprocess_text(text):\n",
    "    text = unidecode(text)\n",
    "    text = text.replace(' #39;', \"'\")\n",
    "    text_words = letters_numbers.findall(text)\n",
    "    text_words = [word for word in text_words if (word not in stop_words) or (len(word) > 2)]\n",
    "    text_words = [stemmer.stem(word) for word in text_words]    \n",
    "    text = \" \".join(text_words)\n",
    "    return text"
   ]
  },
  {
   "cell_type": "code",
   "execution_count": 77,
   "metadata": {},
   "outputs": [
    {
     "data": {
      "text/plain": [
       "'France #39;s Chirac says UK won nothing from Bush support LONDON: French President Jacques Chirac said in a newspaper interview yesterday that Britain has gained nothing from its support for the United States-led invasion of Iraq.'"
      ]
     },
     "execution_count": 77,
     "metadata": {},
     "output_type": "execute_result"
    }
   ],
   "source": [
    "sample_text = np.random.choice(X_train)\n",
    "sample_text"
   ]
  },
  {
   "cell_type": "code",
   "execution_count": 78,
   "metadata": {},
   "outputs": [
    {
     "data": {
      "text/plain": [
       "'franc chirac say UK won noth from bush support london french presid jacqu chirac said newspap interview yesterday that britain ha gain noth from it support for the unit state led invas iraq'"
      ]
     },
     "execution_count": 78,
     "metadata": {},
     "output_type": "execute_result"
    }
   ],
   "source": [
    "preprocess_text(sample_text)"
   ]
  },
  {
   "cell_type": "code",
   "execution_count": 79,
   "metadata": {},
   "outputs": [],
   "source": [
    "from tqdm import tqdm_notebook"
   ]
  },
  {
   "cell_type": "code",
   "execution_count": 80,
   "metadata": {},
   "outputs": [
    {
     "data": {
      "application/vnd.jupyter.widget-view+json": {
       "model_id": "79f0741133df421c88dd64317a0752b3",
       "version_major": 2,
       "version_minor": 0
      },
      "text/plain": [
       "HBox(children=(IntProgress(value=0, max=112400), HTML(value='')))"
      ]
     },
     "metadata": {},
     "output_type": "display_data"
    },
    {
     "name": "stdout",
     "output_type": "stream",
     "text": [
      "\n"
     ]
    }
   ],
   "source": [
    "X_train_prep2 = []\n",
    "for desc in tqdm_notebook(X_train):\n",
    "    X_train_prep2.append(preprocess_text(desc))\n",
    "X_train_prep2 = np.array(X_train_prep2)"
   ]
  },
  {
   "cell_type": "code",
   "execution_count": 81,
   "metadata": {},
   "outputs": [
    {
     "data": {
      "application/vnd.jupyter.widget-view+json": {
       "model_id": "503c58a49c744530a69e83b52bfa2921",
       "version_major": 2,
       "version_minor": 0
      },
      "text/plain": [
       "HBox(children=(IntProgress(value=0, max=7600), HTML(value='')))"
      ]
     },
     "metadata": {},
     "output_type": "display_data"
    },
    {
     "name": "stdout",
     "output_type": "stream",
     "text": [
      "\n"
     ]
    }
   ],
   "source": [
    "X_val_prep2 = []\n",
    "for desc in tqdm_notebook(X_val):\n",
    "    X_val_prep2.append(preprocess_text(desc))\n",
    "X_val_prep2 = np.array(X_val_prep2)"
   ]
  },
  {
   "cell_type": "code",
   "execution_count": 82,
   "metadata": {},
   "outputs": [
    {
     "name": "stdout",
     "output_type": "stream",
     "text": [
      "train accuracy 0.914\n",
      "val accuracy 0.904\n",
      "\n"
     ]
    }
   ],
   "source": [
    "nb = Pipeline([('tfidf', TfidfVectorizer(lowercase=False, token_pattern='\\w+')),\n",
    "               ('clf', MultinomialNB()),])\n",
    "nb.fit(X_train_prep2, y_train)\n",
    "\n",
    "y_pred = nb.predict(X_val_prep2)\n",
    "val_score = accuracy_score(y_pred, y_val)\n",
    "\n",
    "print('train accuracy {0:,.3f}'.format(accuracy_score(nb.predict(X_train_prep2), y_train)))\n",
    "print('val accuracy {0:,.3f}\\n'.format(val_score))\n",
    "\n",
    "if val_score > best_naive_bayes_score:\n",
    "    print(\"text preprocessing improved result for naive bayes\")\n",
    "    print(\"don't forget to preprocess test data as well\")\n",
    "    best_naive_bayes_score = val_score\n",
    "    best_naive_bayes_clf = nb"
   ]
  },
  {
   "cell_type": "code",
   "execution_count": 83,
   "metadata": {},
   "outputs": [],
   "source": [
    "import time"
   ]
  },
  {
   "cell_type": "code",
   "execution_count": 84,
   "metadata": {},
   "outputs": [
    {
     "name": "stdout",
     "output_type": "stream",
     "text": [
      "train accuracy 0.940\n",
      "val accuracy 0.915\n",
      "\n",
      "\n",
      "took 26.29 seconds\n"
     ]
    }
   ],
   "source": [
    "start = time.time()\n",
    "nb = Pipeline([('tfidf', TfidfVectorizer(lowercase=False, token_pattern='\\w+', ngram_range=(1, 2))),\n",
    "               ('clf', MultinomialNB()),\n",
    "              ])\n",
    "nb.fit(X_train_prep2, y_train)\n",
    "\n",
    "y_pred = nb.predict(X_val_prep2)\n",
    "val_score = accuracy_score(y_pred, y_val)\n",
    "\n",
    "print('train accuracy {0:,.3f}'.format(accuracy_score(nb.predict(X_train_prep2), y_train)))\n",
    "print('val accuracy {0:,.3f}\\n'.format(val_score))\n",
    "\n",
    "if val_score > best_naive_bayes_score:\n",
    "    print(\"text preprocessing improved result for naive bayes\")\n",
    "    print(\"don't forget to preprocess test data as well\")\n",
    "    best_naive_bayes_score = val_score\n",
    "    best_naive_bayes_clf = nb\n",
    "print(\"\\ntook {0:.2f} seconds\".format(time.time() - start))"
   ]
  },
  {
   "cell_type": "code",
   "execution_count": null,
   "metadata": {},
   "outputs": [],
   "source": []
  },
  {
   "cell_type": "code",
   "execution_count": 85,
   "metadata": {},
   "outputs": [
    {
     "name": "stdout",
     "output_type": "stream",
     "text": [
      "train accuracy 0.933\n",
      "val accuracy 0.915\n",
      "\n"
     ]
    }
   ],
   "source": [
    "logreg = Pipeline([('tfidf', TfidfVectorizer(lowercase=False, token_pattern='\\w+')),\n",
    "                   ('clf', LogisticRegression(n_jobs=-2, solver=\"lbfgs\", random_state=42)),])\n",
    "logreg.fit(X_train_prep2, y_train)\n",
    "\n",
    "y_pred = logreg.predict(X_val_prep2)\n",
    "val_score = accuracy_score(y_pred, y_val)\n",
    "\n",
    "print('train accuracy {0:,.3f}'.format(accuracy_score(logreg.predict(X_train_prep2), y_train)))\n",
    "print('val accuracy {0:,.3f}\\n'.format(val_score))\n",
    "\n",
    "if val_score > best_log_reg_score:\n",
    "    print(\"text preprocessing improved result for logistic regression\")\n",
    "    print(\"don't forget to preprocess test data as well\")\n",
    "    best_log_reg_score = val_score\n",
    "    best_log_reg_clf = logreg"
   ]
  },
  {
   "cell_type": "code",
   "execution_count": 86,
   "metadata": {},
   "outputs": [
    {
     "name": "stdout",
     "output_type": "stream",
     "text": [
      "train accuracy 0.947\n",
      "val accuracy 0.917\n",
      "\n",
      "\n",
      "took 89.20 seconds\n"
     ]
    }
   ],
   "source": [
    "start = time.time()\n",
    "logreg = Pipeline([('tfidf', TfidfVectorizer(lowercase=False, token_pattern='\\w+', ngram_range=(1, 2))),\n",
    "                   ('clf', LogisticRegression(n_jobs=-2, solver=\"lbfgs\", random_state=42)),])\n",
    "logreg.fit(X_train_prep2, y_train)\n",
    "\n",
    "y_pred = logreg.predict(X_val_prep2)\n",
    "val_score = accuracy_score(y_pred, y_val)\n",
    "\n",
    "print('train accuracy {0:,.3f}'.format(accuracy_score(logreg.predict(X_train_prep2), y_train)))\n",
    "print('val accuracy {0:,.3f}\\n'.format(val_score))\n",
    "\n",
    "if val_score > best_log_reg_score:\n",
    "    print(\"text preprocessing improved result for logistic regression\")\n",
    "    print(\"don't forget to preprocess test data as well\")\n",
    "    best_log_reg_score = val_score\n",
    "    best_log_reg_clf = logreg\n",
    "print(\"\\ntook {0:.2f} seconds\".format(time.time() - start))"
   ]
  },
  {
   "cell_type": "code",
   "execution_count": null,
   "metadata": {},
   "outputs": [],
   "source": []
  },
  {
   "cell_type": "code",
   "execution_count": 87,
   "metadata": {},
   "outputs": [
    {
     "name": "stdout",
     "output_type": "stream",
     "text": [
      "train accuracy 0.950\n",
      "val accuracy 0.916\n"
     ]
    }
   ],
   "source": [
    "ft_model = train_fasttext(X_train_prep2, y_train, wordNgrams=1)\n",
    "val_preds = [i[0].split('_')[-1] for i in ft_model.predict(list(X_val_prep2))[0]]\n",
    "val_score = accuracy_score(val_preds, y_val)\n",
    "print('val accuracy {0:,.3f}'.format(val_score))\n",
    "\n",
    "if val_score > best_fasttext_score:    \n",
    "    print(\"text preprocessing improved result for fasttext\")\n",
    "    print(\"don't forget to preprocess test data as well\")\n",
    "    best_fasttext_score = val_score\n",
    "    best_fasttext_clf = ft_model"
   ]
  },
  {
   "cell_type": "code",
   "execution_count": 88,
   "metadata": {},
   "outputs": [
    {
     "name": "stdout",
     "output_type": "stream",
     "text": [
      "train accuracy 0.998\n",
      "val accuracy 0.925\n",
      "text preprocessing improved result for fasttext\n",
      "don't forget to preprocess test data as well\n",
      "\n",
      "took 24.10 seconds\n"
     ]
    }
   ],
   "source": [
    "start = time.time()\n",
    "ft_model = train_fasttext(X_train_prep2, y_train, wordNgrams=2)\n",
    "val_preds = [i[0].split('_')[-1] for i in ft_model.predict(list(X_val_prep2))[0]]\n",
    "val_score = accuracy_score(val_preds, y_val)\n",
    "print('val accuracy {0:,.3f}'.format(val_score))\n",
    "\n",
    "if val_score > best_fasttext_score:    \n",
    "    print(\"text preprocessing improved result for fasttext\")\n",
    "    print(\"don't forget to preprocess test data as well\")\n",
    "    best_fasttext_score = val_score\n",
    "    best_fasttext_clf = ft_model\n",
    "print(\"\\ntook {0:.2f} seconds\".format(time.time() - start))"
   ]
  },
  {
   "cell_type": "code",
   "execution_count": null,
   "metadata": {},
   "outputs": [],
   "source": []
  },
  {
   "cell_type": "markdown",
   "metadata": {},
   "source": [
    "# test data results"
   ]
  },
  {
   "cell_type": "code",
   "execution_count": 89,
   "metadata": {},
   "outputs": [],
   "source": [
    "from sklearn.metrics import confusion_matrix\n",
    "import seaborn as sns\n",
    "\n",
    "def print_confusion_matrix(confusion_matrix, class_names, figsize = (8,6), fontsize=10):\n",
    "    df_cm = pd.DataFrame(\n",
    "        confusion_matrix, index=class_names, columns=class_names, \n",
    "    )\n",
    "    fig = plt.figure(figsize=figsize)\n",
    "    try:\n",
    "        heatmap = sns.heatmap(df_cm, annot=True, fmt=\"d\")\n",
    "    except ValueError:\n",
    "        raise ValueError(\"Confusion matrix values must be integers.\")\n",
    "    heatmap.yaxis.set_ticklabels(heatmap.yaxis.get_ticklabels(), rotation=0, ha='right', fontsize=fontsize)\n",
    "    heatmap.xaxis.set_ticklabels(heatmap.xaxis.get_ticklabels(), rotation=45, ha='right', fontsize=fontsize)\n",
    "    plt.ylabel('True label')\n",
    "    plt.xlabel('Predicted label')"
   ]
  },
  {
   "cell_type": "code",
   "execution_count": 90,
   "metadata": {},
   "outputs": [],
   "source": [
    "test_df[\"POST_PREP\"] = test_df[\"POST\"].map(preprocess_text)"
   ]
  },
  {
   "cell_type": "markdown",
   "metadata": {},
   "source": [
    "# Naive Bayes"
   ]
  },
  {
   "cell_type": "code",
   "execution_count": 92,
   "metadata": {},
   "outputs": [
    {
     "data": {
      "text/plain": [
       "0.916"
      ]
     },
     "execution_count": 92,
     "metadata": {},
     "output_type": "execute_result"
    }
   ],
   "source": [
    "round(best_naive_bayes_score, 3)"
   ]
  },
  {
   "cell_type": "code",
   "execution_count": 93,
   "metadata": {},
   "outputs": [
    {
     "name": "stdout",
     "output_type": "stream",
     "text": [
      "test accuracy 0.910\n",
      "\n"
     ]
    },
    {
     "data": {
      "image/png": "[encoded data removed]",
      "text/plain": [
       "<Figure size 576x432 with 2 Axes>"
      ]
     },
     "metadata": {},
     "output_type": "display_data"
    }
   ],
   "source": [
    "test_pred = best_naive_bayes_clf.predict(test_df[\"POST\"])\n",
    "print('test accuracy {0:,.3f}\\n'.format(accuracy_score(test_pred, test_df[\"LABEL\"])))\n",
    "print_confusion_matrix(confusion_matrix(test_df[\"LABEL\"], test_pred), class_names=classes)"
   ]
  },
  {
   "cell_type": "code",
   "execution_count": null,
   "metadata": {},
   "outputs": [],
   "source": []
  },
  {
   "cell_type": "markdown",
   "metadata": {},
   "source": [
    "# Logistic Regression"
   ]
  },
  {
   "cell_type": "code",
   "execution_count": 94,
   "metadata": {},
   "outputs": [
    {
     "data": {
      "text/plain": [
       "0.924"
      ]
     },
     "execution_count": 94,
     "metadata": {},
     "output_type": "execute_result"
    }
   ],
   "source": [
    "round(best_log_reg_score, 3)"
   ]
  },
  {
   "cell_type": "code",
   "execution_count": 95,
   "metadata": {},
   "outputs": [
    {
     "name": "stdout",
     "output_type": "stream",
     "text": [
      "test accuracy 0.925\n",
      "\n"
     ]
    },
    {
     "data": {
      "image/png": "[encoded data removed]",
      "text/plain": [
       "<Figure size 576x432 with 2 Axes>"
      ]
     },
     "metadata": {},
     "output_type": "display_data"
    }
   ],
   "source": [
    "test_pred = best_log_reg_clf.predict(test_df[\"POST\"])\n",
    "print('test accuracy {0:,.3f}\\n'.format(accuracy_score(test_pred, test_df[\"LABEL\"])))\n",
    "print_confusion_matrix(confusion_matrix(test_df[\"LABEL\"], test_pred), class_names=classes)"
   ]
  },
  {
   "cell_type": "code",
   "execution_count": null,
   "metadata": {},
   "outputs": [],
   "source": []
  },
  {
   "cell_type": "markdown",
   "metadata": {},
   "source": [
    "# fasttext"
   ]
  },
  {
   "cell_type": "code",
   "execution_count": 96,
   "metadata": {},
   "outputs": [
    {
     "data": {
      "text/plain": [
       "0.925"
      ]
     },
     "execution_count": 96,
     "metadata": {},
     "output_type": "execute_result"
    }
   ],
   "source": [
    "round(best_fasttext_score, 3)"
   ]
  },
  {
   "cell_type": "code",
   "execution_count": 97,
   "metadata": {},
   "outputs": [
    {
     "name": "stdout",
     "output_type": "stream",
     "text": [
      "test accuracy 0.921\n",
      "\n"
     ]
    },
    {
     "data": {
      "image/png": "[encoded data removed]",
      "text/plain": [
       "<Figure size 576x432 with 2 Axes>"
      ]
     },
     "metadata": {},
     "output_type": "display_data"
    }
   ],
   "source": [
    "test_pred, _ = best_fasttext_clf.predict(list(test_df[\"POST_PREP\"]))\n",
    "test_pred = [i[0].split(\"_\")[-1] for i in test_pred]\n",
    "print('test accuracy {0:,.3f}\\n'.format(accuracy_score(test_pred, test_df[\"LABEL\"])))\n",
    "print_confusion_matrix(confusion_matrix(test_df[\"LABEL\"], test_pred), class_names=classes)"
   ]
  },
  {
   "cell_type": "code",
   "execution_count": null,
   "metadata": {},
   "outputs": [],
   "source": []
  },
  {
   "cell_type": "code",
   "execution_count": null,
   "metadata": {},
   "outputs": [],
   "source": []
  }
 ],
 "metadata": {
  "kernelspec": {
   "display_name": "Python 3",
   "language": "python",
   "name": "python3"
  },
  "language_info": {
   "codemirror_mode": {
    "name": "ipython",
    "version": 3
   },
   "file_extension": ".py",
   "mimetype": "text/x-python",
   "name": "python",
   "nbconvert_exporter": "python",
   "pygments_lexer": "ipython3",
   "version": "3.5.2"
  }
 },
 "nbformat": 4,
 "nbformat_minor": 2
}
